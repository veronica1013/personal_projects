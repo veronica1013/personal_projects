{
 "cells": [
  {
   "cell_type": "markdown",
   "metadata": {
    "id": "d5GHuQ1ptcB1"
   },
   "source": [
    "# Africa Credit Challenge\n",
    "\n",
    "The goals of this `starter notebook` are:\n",
    "\n",
    "1. How to load data into a `Pandas` dataframe\n",
    "\n",
    "2. How to `train` a basic machine learning model\n",
    "\n",
    "3. How to `evaluate` the model\n",
    "\n",
    "4. How to `save` your __submission__ following the required format.\n",
    "\n",
    "<font color=\"red\"><b>Note: This is just a starter notebook. It is by no means an ideal solution.</b></font>"
   ]
  },
  {
   "cell_type": "code",
   "execution_count": 32,
   "metadata": {
    "id": "rn5lSuA7pZNS"
   },
   "outputs": [],
   "source": [
    "# Import libraries\n",
    "import pandas as pd\n",
    "import numpy as np\n",
    "import matplotlib.pyplot as plt\n",
    "import seaborn as sns\n",
    "from sklearn.preprocessing import StandardScaler, LabelEncoder\n",
    "from sklearn.linear_model import LogisticRegression\n",
    "from sklearn.metrics import classification_report, confusion_matrix\n",
    "from sklearn.metrics import ConfusionMatrixDisplay\n",
    "from sklearn.metrics import f1_score, roc_auc_score\n",
    "from sklearn.compose import ColumnTransformer\n",
    "#from sklearn.preprocessing import StandardScaler\n",
    "#from sklearn.ensemble import RandomForestClassifier\n",
    "import warnings\n",
    "warnings.filterwarnings('ignore')\n",
    "\n",
    "seed = 42\n",
    "np.random.seed(seed)"
   ]
  },
  {
   "cell_type": "markdown",
   "metadata": {
    "id": "4XXM1TMkqieB"
   },
   "source": [
    "## Load and Inspect the data"
   ]
  },
  {
   "cell_type": "code",
   "execution_count": 2,
   "metadata": {
    "colab": {
     "base_uri": "https://localhost:8080/",
     "height": 660
    },
    "id": "oilPceniqg3H",
    "outputId": "bd1f829a-8e7f-4dd9-da09-257b365205cb"
   },
   "outputs": [
    {
     "data": {
      "text/plain": [
       "'Train'"
      ]
     },
     "metadata": {},
     "output_type": "display_data"
    },
    {
     "data": {
      "text/html": [
       "<div>\n",
       "<style scoped>\n",
       "    .dataframe tbody tr th:only-of-type {\n",
       "        vertical-align: middle;\n",
       "    }\n",
       "\n",
       "    .dataframe tbody tr th {\n",
       "        vertical-align: top;\n",
       "    }\n",
       "\n",
       "    .dataframe thead th {\n",
       "        text-align: right;\n",
       "    }\n",
       "</style>\n",
       "<table border=\"1\" class=\"dataframe\">\n",
       "  <thead>\n",
       "    <tr style=\"text-align: right;\">\n",
       "      <th></th>\n",
       "      <th>ID</th>\n",
       "      <th>customer_id</th>\n",
       "      <th>country_id</th>\n",
       "      <th>tbl_loan_id</th>\n",
       "      <th>lender_id</th>\n",
       "      <th>loan_type</th>\n",
       "      <th>Total_Amount</th>\n",
       "      <th>Total_Amount_to_Repay</th>\n",
       "      <th>disbursement_date</th>\n",
       "      <th>due_date</th>\n",
       "      <th>duration</th>\n",
       "      <th>New_versus_Repeat</th>\n",
       "      <th>Amount_Funded_By_Lender</th>\n",
       "      <th>Lender_portion_Funded</th>\n",
       "      <th>Lender_portion_to_be_repaid</th>\n",
       "      <th>target</th>\n",
       "    </tr>\n",
       "  </thead>\n",
       "  <tbody>\n",
       "    <tr>\n",
       "      <th>0</th>\n",
       "      <td>ID_266671248032267278</td>\n",
       "      <td>266671</td>\n",
       "      <td>Kenya</td>\n",
       "      <td>248032</td>\n",
       "      <td>267278</td>\n",
       "      <td>Type_1</td>\n",
       "      <td>8448.0</td>\n",
       "      <td>8448.0</td>\n",
       "      <td>2022-08-30</td>\n",
       "      <td>2022-09-06</td>\n",
       "      <td>7</td>\n",
       "      <td>Repeat Loan</td>\n",
       "      <td>120.85</td>\n",
       "      <td>0.014305</td>\n",
       "      <td>121.0</td>\n",
       "      <td>0</td>\n",
       "    </tr>\n",
       "    <tr>\n",
       "      <th>1</th>\n",
       "      <td>ID_248919228515267278</td>\n",
       "      <td>248919</td>\n",
       "      <td>Kenya</td>\n",
       "      <td>228515</td>\n",
       "      <td>267278</td>\n",
       "      <td>Type_1</td>\n",
       "      <td>25895.0</td>\n",
       "      <td>25979.0</td>\n",
       "      <td>2022-07-30</td>\n",
       "      <td>2022-08-06</td>\n",
       "      <td>7</td>\n",
       "      <td>Repeat Loan</td>\n",
       "      <td>7768.50</td>\n",
       "      <td>0.300000</td>\n",
       "      <td>7794.0</td>\n",
       "      <td>0</td>\n",
       "    </tr>\n",
       "    <tr>\n",
       "      <th>2</th>\n",
       "      <td>ID_308486370501251804</td>\n",
       "      <td>308486</td>\n",
       "      <td>Kenya</td>\n",
       "      <td>370501</td>\n",
       "      <td>251804</td>\n",
       "      <td>Type_7</td>\n",
       "      <td>6900.0</td>\n",
       "      <td>7142.0</td>\n",
       "      <td>2024-09-06</td>\n",
       "      <td>2024-09-13</td>\n",
       "      <td>7</td>\n",
       "      <td>Repeat Loan</td>\n",
       "      <td>1380.00</td>\n",
       "      <td>0.200000</td>\n",
       "      <td>1428.0</td>\n",
       "      <td>0</td>\n",
       "    </tr>\n",
       "    <tr>\n",
       "      <th>3</th>\n",
       "      <td>ID_266004285009267278</td>\n",
       "      <td>266004</td>\n",
       "      <td>Kenya</td>\n",
       "      <td>285009</td>\n",
       "      <td>267278</td>\n",
       "      <td>Type_1</td>\n",
       "      <td>8958.0</td>\n",
       "      <td>9233.0</td>\n",
       "      <td>2022-10-20</td>\n",
       "      <td>2022-10-27</td>\n",
       "      <td>7</td>\n",
       "      <td>Repeat Loan</td>\n",
       "      <td>2687.40</td>\n",
       "      <td>0.300000</td>\n",
       "      <td>2770.0</td>\n",
       "      <td>0</td>\n",
       "    </tr>\n",
       "    <tr>\n",
       "      <th>4</th>\n",
       "      <td>ID_253803305312267278</td>\n",
       "      <td>253803</td>\n",
       "      <td>Kenya</td>\n",
       "      <td>305312</td>\n",
       "      <td>267278</td>\n",
       "      <td>Type_1</td>\n",
       "      <td>4564.0</td>\n",
       "      <td>4728.0</td>\n",
       "      <td>2022-11-28</td>\n",
       "      <td>2022-12-05</td>\n",
       "      <td>7</td>\n",
       "      <td>Repeat Loan</td>\n",
       "      <td>1369.20</td>\n",
       "      <td>0.300000</td>\n",
       "      <td>1418.0</td>\n",
       "      <td>0</td>\n",
       "    </tr>\n",
       "  </tbody>\n",
       "</table>\n",
       "</div>"
      ],
      "text/plain": [
       "                      ID  customer_id country_id  tbl_loan_id  lender_id  \\\n",
       "0  ID_266671248032267278       266671      Kenya       248032     267278   \n",
       "1  ID_248919228515267278       248919      Kenya       228515     267278   \n",
       "2  ID_308486370501251804       308486      Kenya       370501     251804   \n",
       "3  ID_266004285009267278       266004      Kenya       285009     267278   \n",
       "4  ID_253803305312267278       253803      Kenya       305312     267278   \n",
       "\n",
       "  loan_type  Total_Amount  Total_Amount_to_Repay disbursement_date  \\\n",
       "0    Type_1        8448.0                 8448.0        2022-08-30   \n",
       "1    Type_1       25895.0                25979.0        2022-07-30   \n",
       "2    Type_7        6900.0                 7142.0        2024-09-06   \n",
       "3    Type_1        8958.0                 9233.0        2022-10-20   \n",
       "4    Type_1        4564.0                 4728.0        2022-11-28   \n",
       "\n",
       "     due_date  duration New_versus_Repeat  Amount_Funded_By_Lender  \\\n",
       "0  2022-09-06         7       Repeat Loan                   120.85   \n",
       "1  2022-08-06         7       Repeat Loan                  7768.50   \n",
       "2  2024-09-13         7       Repeat Loan                  1380.00   \n",
       "3  2022-10-27         7       Repeat Loan                  2687.40   \n",
       "4  2022-12-05         7       Repeat Loan                  1369.20   \n",
       "\n",
       "   Lender_portion_Funded  Lender_portion_to_be_repaid  target  \n",
       "0               0.014305                        121.0       0  \n",
       "1               0.300000                       7794.0       0  \n",
       "2               0.200000                       1428.0       0  \n",
       "3               0.300000                       2770.0       0  \n",
       "4               0.300000                       1418.0       0  "
      ]
     },
     "metadata": {},
     "output_type": "display_data"
    },
    {
     "data": {
      "text/plain": [
       "(68654, 16)"
      ]
     },
     "metadata": {},
     "output_type": "display_data"
    },
    {
     "data": {
      "text/plain": [
       "'Test'"
      ]
     },
     "metadata": {},
     "output_type": "display_data"
    },
    {
     "data": {
      "text/html": [
       "<div>\n",
       "<style scoped>\n",
       "    .dataframe tbody tr th:only-of-type {\n",
       "        vertical-align: middle;\n",
       "    }\n",
       "\n",
       "    .dataframe tbody tr th {\n",
       "        vertical-align: top;\n",
       "    }\n",
       "\n",
       "    .dataframe thead th {\n",
       "        text-align: right;\n",
       "    }\n",
       "</style>\n",
       "<table border=\"1\" class=\"dataframe\">\n",
       "  <thead>\n",
       "    <tr style=\"text-align: right;\">\n",
       "      <th></th>\n",
       "      <th>ID</th>\n",
       "      <th>customer_id</th>\n",
       "      <th>country_id</th>\n",
       "      <th>tbl_loan_id</th>\n",
       "      <th>lender_id</th>\n",
       "      <th>loan_type</th>\n",
       "      <th>Total_Amount</th>\n",
       "      <th>Total_Amount_to_Repay</th>\n",
       "      <th>disbursement_date</th>\n",
       "      <th>due_date</th>\n",
       "      <th>duration</th>\n",
       "      <th>New_versus_Repeat</th>\n",
       "      <th>Amount_Funded_By_Lender</th>\n",
       "      <th>Lender_portion_Funded</th>\n",
       "      <th>Lender_portion_to_be_repaid</th>\n",
       "    </tr>\n",
       "  </thead>\n",
       "  <tbody>\n",
       "    <tr>\n",
       "      <th>0</th>\n",
       "      <td>ID_269404226088267278</td>\n",
       "      <td>269404</td>\n",
       "      <td>Kenya</td>\n",
       "      <td>226088</td>\n",
       "      <td>267278</td>\n",
       "      <td>Type_1</td>\n",
       "      <td>1919.0</td>\n",
       "      <td>1989.0</td>\n",
       "      <td>2022-07-27</td>\n",
       "      <td>2022-08-03</td>\n",
       "      <td>7</td>\n",
       "      <td>Repeat Loan</td>\n",
       "      <td>575.7</td>\n",
       "      <td>0.300000</td>\n",
       "      <td>597.0</td>\n",
       "    </tr>\n",
       "    <tr>\n",
       "      <th>1</th>\n",
       "      <td>ID_255356300042267278</td>\n",
       "      <td>255356</td>\n",
       "      <td>Kenya</td>\n",
       "      <td>300042</td>\n",
       "      <td>267278</td>\n",
       "      <td>Type_1</td>\n",
       "      <td>2138.0</td>\n",
       "      <td>2153.0</td>\n",
       "      <td>2022-11-16</td>\n",
       "      <td>2022-11-23</td>\n",
       "      <td>7</td>\n",
       "      <td>Repeat Loan</td>\n",
       "      <td>0.0</td>\n",
       "      <td>0.000000</td>\n",
       "      <td>0.0</td>\n",
       "    </tr>\n",
       "    <tr>\n",
       "      <th>2</th>\n",
       "      <td>ID_257026243764267278</td>\n",
       "      <td>257026</td>\n",
       "      <td>Kenya</td>\n",
       "      <td>243764</td>\n",
       "      <td>267278</td>\n",
       "      <td>Type_1</td>\n",
       "      <td>8254.0</td>\n",
       "      <td>8304.0</td>\n",
       "      <td>2022-08-24</td>\n",
       "      <td>2022-08-31</td>\n",
       "      <td>7</td>\n",
       "      <td>Repeat Loan</td>\n",
       "      <td>207.0</td>\n",
       "      <td>0.025079</td>\n",
       "      <td>208.0</td>\n",
       "    </tr>\n",
       "    <tr>\n",
       "      <th>3</th>\n",
       "      <td>ID_264617299409267278</td>\n",
       "      <td>264617</td>\n",
       "      <td>Kenya</td>\n",
       "      <td>299409</td>\n",
       "      <td>267278</td>\n",
       "      <td>Type_1</td>\n",
       "      <td>3379.0</td>\n",
       "      <td>3379.0</td>\n",
       "      <td>2022-11-15</td>\n",
       "      <td>2022-11-22</td>\n",
       "      <td>7</td>\n",
       "      <td>Repeat Loan</td>\n",
       "      <td>1013.7</td>\n",
       "      <td>0.300000</td>\n",
       "      <td>1014.0</td>\n",
       "    </tr>\n",
       "    <tr>\n",
       "      <th>4</th>\n",
       "      <td>ID_247613296713267278</td>\n",
       "      <td>247613</td>\n",
       "      <td>Kenya</td>\n",
       "      <td>296713</td>\n",
       "      <td>267278</td>\n",
       "      <td>Type_1</td>\n",
       "      <td>120.0</td>\n",
       "      <td>120.0</td>\n",
       "      <td>2022-11-10</td>\n",
       "      <td>2022-11-17</td>\n",
       "      <td>7</td>\n",
       "      <td>Repeat Loan</td>\n",
       "      <td>36.0</td>\n",
       "      <td>0.300000</td>\n",
       "      <td>36.0</td>\n",
       "    </tr>\n",
       "  </tbody>\n",
       "</table>\n",
       "</div>"
      ],
      "text/plain": [
       "                      ID  customer_id country_id  tbl_loan_id  lender_id  \\\n",
       "0  ID_269404226088267278       269404      Kenya       226088     267278   \n",
       "1  ID_255356300042267278       255356      Kenya       300042     267278   \n",
       "2  ID_257026243764267278       257026      Kenya       243764     267278   \n",
       "3  ID_264617299409267278       264617      Kenya       299409     267278   \n",
       "4  ID_247613296713267278       247613      Kenya       296713     267278   \n",
       "\n",
       "  loan_type  Total_Amount  Total_Amount_to_Repay disbursement_date  \\\n",
       "0    Type_1        1919.0                 1989.0        2022-07-27   \n",
       "1    Type_1        2138.0                 2153.0        2022-11-16   \n",
       "2    Type_1        8254.0                 8304.0        2022-08-24   \n",
       "3    Type_1        3379.0                 3379.0        2022-11-15   \n",
       "4    Type_1         120.0                  120.0        2022-11-10   \n",
       "\n",
       "     due_date  duration New_versus_Repeat  Amount_Funded_By_Lender  \\\n",
       "0  2022-08-03         7       Repeat Loan                    575.7   \n",
       "1  2022-11-23         7       Repeat Loan                      0.0   \n",
       "2  2022-08-31         7       Repeat Loan                    207.0   \n",
       "3  2022-11-22         7       Repeat Loan                   1013.7   \n",
       "4  2022-11-17         7       Repeat Loan                     36.0   \n",
       "\n",
       "   Lender_portion_Funded  Lender_portion_to_be_repaid  \n",
       "0               0.300000                        597.0  \n",
       "1               0.000000                          0.0  \n",
       "2               0.025079                        208.0  \n",
       "3               0.300000                       1014.0  \n",
       "4               0.300000                         36.0  "
      ]
     },
     "metadata": {},
     "output_type": "display_data"
    },
    {
     "data": {
      "text/plain": [
       "(18594, 15)"
      ]
     },
     "metadata": {},
     "output_type": "display_data"
    }
   ],
   "source": [
    "# Loading the train dataset\n",
    "train = pd.read_csv('Train.csv')\n",
    "test = pd.read_csv('Test.csv')\n",
    "# Display the first few rows of the datasets and their shape\n",
    "display(\"Train\", train.head(), train.shape, \"Test\", test.head(), test.shape)"
   ]
  },
  {
   "cell_type": "code",
   "execution_count": 3,
   "metadata": {
    "colab": {
     "base_uri": "https://localhost:8080/"
    },
    "id": "oP15Xwr1rWtV",
    "outputId": "6631493f-1466-45a1-e624-c36f0cbf02da"
   },
   "outputs": [
    {
     "name": "stdout",
     "output_type": "stream",
     "text": [
      "<class 'pandas.core.frame.DataFrame'>\n",
      "RangeIndex: 68654 entries, 0 to 68653\n",
      "Data columns (total 16 columns):\n",
      " #   Column                       Non-Null Count  Dtype  \n",
      "---  ------                       --------------  -----  \n",
      " 0   ID                           68654 non-null  object \n",
      " 1   customer_id                  68654 non-null  int64  \n",
      " 2   country_id                   68654 non-null  object \n",
      " 3   tbl_loan_id                  68654 non-null  int64  \n",
      " 4   lender_id                    68654 non-null  int64  \n",
      " 5   loan_type                    68654 non-null  object \n",
      " 6   Total_Amount                 68654 non-null  float64\n",
      " 7   Total_Amount_to_Repay        68654 non-null  float64\n",
      " 8   disbursement_date            68654 non-null  object \n",
      " 9   due_date                     68654 non-null  object \n",
      " 10  duration                     68654 non-null  int64  \n",
      " 11  New_versus_Repeat            68654 non-null  object \n",
      " 12  Amount_Funded_By_Lender      68654 non-null  float64\n",
      " 13  Lender_portion_Funded        68654 non-null  float64\n",
      " 14  Lender_portion_to_be_repaid  68654 non-null  float64\n",
      " 15  target                       68654 non-null  int64  \n",
      "dtypes: float64(5), int64(5), object(6)\n",
      "memory usage: 8.4+ MB\n"
     ]
    }
   ],
   "source": [
    "# Check column types & missing values\n",
    "train.info()"
   ]
  },
  {
   "cell_type": "code",
   "execution_count": 4,
   "metadata": {
    "colab": {
     "base_uri": "https://localhost:8080/"
    },
    "id": "m2iSLCpUrjRo",
    "outputId": "d1401dee-885b-4955-f6b1-b888bdf489db"
   },
   "outputs": [
    {
     "name": "stdout",
     "output_type": "stream",
     "text": [
      "There are 0 missing values in the data.\n"
     ]
    }
   ],
   "source": [
    "# Are there missing values in the train dataset ?\n",
    "print(f\"There are {train.isna().sum().sum()} missing values in the data.\")"
   ]
  },
  {
   "cell_type": "markdown",
   "metadata": {
    "id": "qbc_jPpr9yDh"
   },
   "source": [
    "### EDA"
   ]
  },
  {
   "cell_type": "code",
   "execution_count": 5,
   "metadata": {
    "id": "Fpu52BLQLxx1"
   },
   "outputs": [],
   "source": [
    "def plot_continuous(df, column, transform=None):\n",
    "    \"\"\"\n",
    "    Plots visualizations for a continuous variable, showing the distribution and boxplot for both\n",
    "    the original and transformed versions of the data.\n",
    "\n",
    "    Args:\n",
    "        df (pandas.DataFrame): The DataFrame containing the data.\n",
    "        column (str): The column name of the continuous variable to plot.\n",
    "        transform (str, optional): Transformation to apply to the data before plotting.\n",
    "                                  Accepted values are 'log' or 'sqrt'. Default is None, which means no transformation.\n",
    "\n",
    "    This function generates:\n",
    "        - A histogram with a kernel density estimate (KDE) for the original data.\n",
    "        - A boxplot for the original data.\n",
    "        - If a transformation is specified ('log' or 'sqrt'):\n",
    "            - A histogram with a KDE for the transformed data.\n",
    "            - A boxplot for the transformed data.\n",
    "    \"\"\"\n",
    "    # Create subplots for visualizations\n",
    "    fig, axs = plt.subplots(2, 2, figsize=(15, 15))\n",
    "\n",
    "    # Original data plots\n",
    "    sns.histplot(df[column], kde=True, ax=axs[0, 0])\n",
    "    axs[0, 0].set_title(f'Distribution of {column}')\n",
    "    axs[0, 0].set_xlabel(column)\n",
    "\n",
    "    sns.boxplot(y=df[column], ax=axs[1, 0])\n",
    "    axs[1, 0].set_title(f'Box Plot of {column}')\n",
    "    axs[1, 0].set_ylabel(column)\n",
    "\n",
    "    # Transformations (log or square root)\n",
    "    if transform == 'log':\n",
    "        transformed_data = np.log1p(df[column])  # log1p handles log(0) gracefully\n",
    "        transform_label = 'Log'\n",
    "    elif transform == 'sqrt':\n",
    "        transformed_data = np.sqrt(df[column])  # Square root transformation\n",
    "        transform_label = 'Square Root'\n",
    "    else:\n",
    "        transformed_data = None  # No transformation if not specified\n",
    "\n",
    "    # If transformed data exists, generate corresponding plots\n",
    "    if transformed_data is not None:\n",
    "        sns.histplot(transformed_data, kde=True, ax=axs[0, 1])\n",
    "        axs[0, 1].set_title(f'{transform_label} Distribution of {column}')\n",
    "        axs[0, 1].set_xlabel(f'{transform_label}({column})')\n",
    "\n",
    "        sns.boxplot(y=transformed_data, ax=axs[1, 1])\n",
    "        axs[1, 1].set_title(f'{transform_label} Box Plot of {column}')\n",
    "        axs[1, 1].set_ylabel(f'{transform_label}({column})')\n",
    "    else:\n",
    "        # If no transformation, remove the second set of axes\n",
    "        for ax in [axs[0, 1], axs[1, 1]]:\n",
    "            ax.remove()\n",
    "\n",
    "    # Adjust layout to prevent overlap\n",
    "    plt.tight_layout()\n",
    "    plt.show()\n",
    "\n",
    "\n",
    "def plot_categorical(df, column):\n",
    "    \"\"\"\n",
    "    Plots visualizations for a categorical variable, including a bar plot and a pie chart.\n",
    "\n",
    "    Args:\n",
    "        df (pandas.DataFrame): The DataFrame containing the data.\n",
    "        column (str): The column name of the categorical variable to plot.\n",
    "\n",
    "    This function generates:\n",
    "        - A bar plot showing the counts of each category in the specified column.\n",
    "        - A pie chart showing the relative proportions of each category.\n",
    "    \"\"\"\n",
    "    # Create subplots for visualizations\n",
    "    fig, (ax1, ax2) = plt.subplots(1, 2, figsize=(15, 5))\n",
    "\n",
    "    # Bar plot showing counts of each category\n",
    "    value_counts = df[column].value_counts()\n",
    "    sns.barplot(x=value_counts.index, y=value_counts.values, ax=ax1)\n",
    "    ax1.set_title(f'Bar Plot of {column}')\n",
    "    ax1.set_xlabel(column)\n",
    "    ax1.set_ylabel('Count')\n",
    "    ax1.tick_params(axis='x', rotation=45)  # Rotate x-axis labels for better readability\n",
    "\n",
    "    # Pie chart showing percentage distribution of each category\n",
    "    ax2.pie(value_counts.values, labels=value_counts.index, autopct='%1.1f%%')\n",
    "    ax2.set_title(f'Pie Chart of {column}')\n",
    "\n",
    "    # Adjust layout to prevent overlap\n",
    "    plt.tight_layout()\n",
    "    plt.show()\n"
   ]
  },
  {
   "cell_type": "markdown",
   "metadata": {
    "id": "0uQ6y1nh9yDl"
   },
   "source": [
    "#### Categorical exploration"
   ]
  },
  {
   "cell_type": "code",
   "execution_count": 6,
   "metadata": {
    "colab": {
     "base_uri": "https://localhost:8080/",
     "height": 429
    },
    "id": "CvBZFCDB9yDp",
    "outputId": "b3e66c2e-b96e-46fc-9486-23de6a03330b"
   },
   "outputs": [
    {
     "data": {
      "image/png": "[encoded data removed]",
      "text/plain": [
       "<Figure size 1080x360 with 2 Axes>"
      ]
     },
     "metadata": {
      "needs_background": "light"
     },
     "output_type": "display_data"
    }
   ],
   "source": [
    "plot_categorical(train, 'country_id')"
   ]
  },
  {
   "cell_type": "code",
   "execution_count": 7,
   "metadata": {
    "colab": {
     "base_uri": "https://localhost:8080/",
     "height": 431
    },
    "id": "tkHc46MC9yDr",
    "outputId": "5f5647d2-cdd2-406b-e578-049f8fa60b9f"
   },
   "outputs": [
    {
     "data": {
      "image/png": "[encoded data removed]",
      "text/plain": [
       "<Figure size 1080x360 with 2 Axes>"
      ]
     },
     "metadata": {
      "needs_background": "light"
     },
     "output_type": "display_data"
    }
   ],
   "source": [
    "plot_categorical(test, 'country_id')"
   ]
  },
  {
   "cell_type": "markdown",
   "metadata": {
    "id": "e6KZsi7C9yDs"
   },
   "source": [
    "##### This shows that test has a new country, ghana so one of the goals is to build a solution that can generalize well in new regions"
   ]
  },
  {
   "cell_type": "code",
   "execution_count": 8,
   "metadata": {
    "colab": {
     "base_uri": "https://localhost:8080/",
     "height": 420
    },
    "id": "oBNBL-iE9yDt",
    "outputId": "c74c4abb-a888-435c-f5e5-f757cb9e5838"
   },
   "outputs": [
    {
     "data": {
      "image/png": "[encoded data removed]",
      "text/plain": [
       "<Figure size 1080x360 with 2 Axes>"
      ]
     },
     "metadata": {
      "needs_background": "light"
     },
     "output_type": "display_data"
    }
   ],
   "source": [
    "plot_categorical(train, 'lender_id')"
   ]
  },
  {
   "cell_type": "markdown",
   "metadata": {
    "id": "InTIxxFY9yDu"
   },
   "source": [
    "##### You can exploree more of the categorical columns as well"
   ]
  },
  {
   "cell_type": "markdown",
   "metadata": {
    "id": "cxbIof5w9yDv"
   },
   "source": [
    "#### TARGET EXPLORATION\n"
   ]
  },
  {
   "cell_type": "code",
   "execution_count": 9,
   "metadata": {
    "colab": {
     "base_uri": "https://localhost:8080/",
     "height": 427
    },
    "id": "fRY_YskV9yDv",
    "outputId": "ff65f4d1-da3c-433e-c974-90754125ccf0"
   },
   "outputs": [
    {
     "data": {
      "image/png": "[encoded data removed]",
      "text/plain": [
       "<Figure size 1080x360 with 2 Axes>"
      ]
     },
     "metadata": {
      "needs_background": "light"
     },
     "output_type": "display_data"
    }
   ],
   "source": [
    "plot_categorical(train, 'target')"
   ]
  },
  {
   "cell_type": "markdown",
   "metadata": {
    "id": "tv2WRWv59yDw"
   },
   "source": [
    "##### You can see the dataset is highly imbalanced , and this is expected in loan default scenarios, So find  ways to deal with the  imbalance"
   ]
  },
  {
   "cell_type": "markdown",
   "metadata": {
    "id": "RXMEJ_j-9yDw"
   },
   "source": [
    "### CONTINUOUS COLUMN EXPLORATION"
   ]
  },
  {
   "cell_type": "code",
   "execution_count": 10,
   "metadata": {
    "colab": {
     "base_uri": "https://localhost:8080/",
     "height": 1000
    },
    "id": "2AttBo4C9yDw",
    "outputId": "5320bd41-5fb6-40ec-c846-1261cb2c7ad6"
   },
   "outputs": [
    {
     "data": {
      "image/png": "[encoded data removed]",
      "text/plain": [
       "<Figure size 1080x1080 with 2 Axes>"
      ]
     },
     "metadata": {
      "needs_background": "light"
     },
     "output_type": "display_data"
    }
   ],
   "source": [
    "plot_continuous(train, 'Total_Amount')"
   ]
  },
  {
   "cell_type": "markdown",
   "metadata": {
    "id": "cwK6jcu19yDx"
   },
   "source": [
    "Are those outliers?\n",
    "##### You can explore more of the given numerical columns as well"
   ]
  },
  {
   "cell_type": "markdown",
   "metadata": {
    "id": "8KnFfQ679yDx"
   },
   "source": [
    "### Feature Engineering\n",
    "* So here we are going to concatenate both the train and test so that we can do the processing once instead of repeating for each"
   ]
  },
  {
   "cell_type": "code",
   "execution_count": 53,
   "metadata": {
    "colab": {
     "base_uri": "https://localhost:8080/"
    },
    "id": "KJ0sgX3uti_u",
    "outputId": "a524986f-be6d-413f-9a92-fa67a081243c"
   },
   "outputs": [
    {
     "name": "stdout",
     "output_type": "stream",
     "text": [
      "The categorical columns are: Index(['ID', 'country_id', 'loan_type', 'New_versus_Repeat'], dtype='object').\n",
      "----------------------------------------------------------------------------------------------------\n",
      "The numerical columns are: ['customer_id', 'tbl_loan_id', 'lender_id', 'Total_Amount', 'Total_Amount_to_Repay', 'duration', 'Amount_Funded_By_Lender', 'Lender_portion_Funded', 'Lender_portion_to_be_repaid', 'disbursement_date_month', 'disbursement_date_day', 'disbursement_date_year', 'due_date_month', 'due_date_day', 'due_date_year']\n",
      "----------------------------------------------------------------------------------------------------\n",
      "The shape of train_df is: (68654, 45)\n",
      "The shape of test_df is: (18594, 45)\n",
      "The shape of train is: (68654, 16)\n",
      "The shape of test is: (18594, 15)\n",
      "The features for modelling are:\n",
      "['customer_id', 'tbl_loan_id', 'lender_id', 'Total_Amount', 'Total_Amount_to_Repay', 'duration', 'New_versus_Repeat', 'Amount_Funded_By_Lender', 'Lender_portion_Funded', 'Lender_portion_to_be_repaid', 'disbursement_date_month', 'disbursement_date_day', 'disbursement_date_year', 'due_date_month', 'due_date_day', 'due_date_year', 'loan_type_Type_1', 'loan_type_Type_10', 'loan_type_Type_11', 'loan_type_Type_12', 'loan_type_Type_13', 'loan_type_Type_14', 'loan_type_Type_15', 'loan_type_Type_16', 'loan_type_Type_17', 'loan_type_Type_18', 'loan_type_Type_19', 'loan_type_Type_2', 'loan_type_Type_20', 'loan_type_Type_21', 'loan_type_Type_22', 'loan_type_Type_23', 'loan_type_Type_24', 'loan_type_Type_3', 'loan_type_Type_4', 'loan_type_Type_5', 'loan_type_Type_6', 'loan_type_Type_7', 'loan_type_Type_8', 'loan_type_Type_9']\n"
     ]
    }
   ],
   "source": [
    "data = pd.concat([train, test]).reset_index(drop=True)\n",
    "\n",
    "# Convert the datetime columns appropriately\n",
    "date_cols = ['disbursement_date', 'due_date']\n",
    "for col in date_cols:\n",
    "    data[col] = pd.to_datetime(data[col])\n",
    "    # Extract month, day, and year from the date columns\n",
    "    data[col+'_month'] = data[col].dt.month\n",
    "    data[col+'_day'] = data[col].dt.day\n",
    "    data[col+'_year'] = data[col].dt.year\n",
    "\n",
    "# Select all categorical columns from the dataset and label encode them or one hot encode\n",
    "cat_cols = data.select_dtypes(include='object').columns\n",
    "num_cols = [col for col in data.select_dtypes(include='number').columns if col not in ['target']]\n",
    "print(f\"The categorical columns are: {cat_cols}.\")\n",
    "print(\"-\"* 100)\n",
    "print(f\"The numerical columns are: {num_cols}\")\n",
    "print(\"-\"* 100)\n",
    "# we are going to one  hot encode the loan type\n",
    "data = pd.get_dummies(data, columns=['loan_type'], prefix='loan_type', drop_first=False)\n",
    "# Convert all the columns with prefix loan_type_ to 0/1 instead of False/True\n",
    "loan_type_cols = [col for col in data.columns if col.startswith('loan_type_')]\n",
    "data[loan_type_cols] = data[loan_type_cols].astype(int)\n",
    "\n",
    "# Label-encoding for the other remaining categorical columns\n",
    "le = LabelEncoder()\n",
    "for col in [col for col in cat_cols if col not in ['loan_type', 'ID']]:\n",
    "    data[col] = le.fit_transform(data[col])\n",
    "\n",
    "\n",
    "# deal with numerical columns: we saw loan amount is  highly right skewed for this we can log transform it\n",
    "data['Total_Amount'] = np.log1p(data['Total_Amount']) # study other numerical columns and see if they are skewed as well\n",
    "\n",
    "# Splitting the data back into train and test\n",
    "train_df = data[data['ID'].isin(train['ID'].unique())]\n",
    "\n",
    "test_df = data[data['ID'].isin(test['ID'].unique())]\n",
    "\n",
    "# we are also going to drop the country id as we saw we have only one country in train\n",
    "features_for_modelling = [col for col in train_df.columns if col not in date_cols + ['ID', 'target', 'country_id']]\n",
    "\n",
    "# Check if the new datasets have the same rows as train and test datasets\n",
    "print(f\"The shape of train_df is: {train_df.shape}\")\n",
    "print(f\"The shape of test_df is: {test_df.shape}\")\n",
    "print(f\"The shape of train is: {train.shape}\")\n",
    "print(f\"The shape of test is: {test.shape}\")\n",
    "print(f\"The features for modelling are:\\n{features_for_modelling}\")\n"
   ]
  },
  {
   "cell_type": "markdown",
   "metadata": {
    "id": "6DSpwlQP9yD2"
   },
   "source": [
    "### CROSS VALIDATION\n",
    "* Here we are going to use a simple train test split but due to the imbalance try other robust methods like StratifiedKFold\n"
   ]
  },
  {
   "cell_type": "code",
   "execution_count": 39,
   "metadata": {
    "colab": {
     "base_uri": "https://localhost:8080/"
    },
    "id": "nwX_NRfbAbDq",
    "outputId": "54a5538b-2219-498c-b8c8-6b42e38f2edd"
   },
   "outputs": [
    {
     "name": "stdout",
     "output_type": "stream",
     "text": [
      "(51490, 40) (17164, 40) (51490,) (17164,)\n"
     ]
    }
   ],
   "source": [
    "from sklearn.model_selection import train_test_split\n",
    "X_train, X_valid, y_train, y_valid = train_test_split(train_df[features_for_modelling], train['target'], stratify=train['target'], shuffle=True, random_state=42)\n",
    "print(X_train.shape, X_valid.shape, y_train.shape, y_valid.shape)"
   ]
  },
  {
   "cell_type": "markdown",
   "metadata": {
    "id": "f5CHOKoi0tG0"
   },
   "source": [
    "## Initialisation & Model Training"
   ]
  },
  {
   "cell_type": "code",
   "execution_count": 21,
   "metadata": {
    "colab": {
     "base_uri": "https://localhost:8080/",
     "height": 698
    },
    "id": "BHh2jDjc7wPQ",
    "outputId": "ff5cba25-6860-4b41-de48-1cc6a94bb00e"
   },
   "outputs": [
    {
     "name": "stdout",
     "output_type": "stream",
     "text": [
      "F1 Score: 0.2616\n",
      "ROC AUC Score: 0.9285\n",
      "\n",
      "Classification Report:\n",
      "               precision    recall  f1-score   support\n",
      "\n",
      "           0       1.00      0.92      0.96     16849\n",
      "           1       0.16      0.80      0.26       315\n",
      "\n",
      "    accuracy                           0.92     17164\n",
      "   macro avg       0.58      0.86      0.61     17164\n",
      "weighted avg       0.98      0.92      0.94     17164\n",
      "\n"
     ]
    },
    {
     "data": {
      "image/png": "[encoded data removed]",
      "text/plain": [
       "<Figure size 432x288 with 2 Axes>"
      ]
     },
     "metadata": {
      "needs_background": "light"
     },
     "output_type": "display_data"
    }
   ],
   "source": [
    "\n",
    "# Standard Scaling\n",
    "scaler = StandardScaler()\n",
    "X_train_scaled = scaler.fit_transform(X_train)\n",
    "X_valid_scaled = scaler.transform(X_valid)\n",
    "\n",
    "# Logistic Regression Classifier\n",
    "clf = LogisticRegression(\n",
    "    random_state=42,\n",
    "    class_weight=\"balanced\",  # Handle class imbalance\n",
    ")\n",
    "clf.fit(X_train_scaled, y_train)\n",
    "\n",
    "# Predictions\n",
    "y_pred = clf.predict(X_valid_scaled)\n",
    "y_pred_proba = clf.predict_proba(X_valid_scaled)[:, 1]\n",
    "\n",
    "# Evaluation Metrics\n",
    "f1 = f1_score(y_valid, y_pred)\n",
    "roc_auc = roc_auc_score(y_valid, y_pred_proba)\n",
    "\n",
    "print(f\"F1 Score: {f1:.4f}\")\n",
    "print(f\"ROC AUC Score: {roc_auc:.4f}\")\n",
    "print(\"\\nClassification Report:\\n\", classification_report(y_valid, y_pred))\n",
    "\n",
    "# Compute the confusion matrix\n",
    "cm = confusion_matrix(y_valid, y_pred)\n",
    "\n",
    "# Confusion Matrix\n",
    "# Confusion Matrix Visualization\n",
    "ConfusionMatrixDisplay(\n",
    "    confusion_matrix=cm,\n",
    "    display_labels=clf.classes_,\n",
    "#     cmap=plt.cm.Blues\n",
    ").plot()\n",
    "plt.title(\"Confusion Matrix\")\n",
    "plt.show()\n"
   ]
  },
  {
   "cell_type": "markdown",
   "metadata": {
    "id": "R8s6-hmZ9yD7"
   },
   "source": [
    "### FEATURE IMPORTANCE"
   ]
  },
  {
   "cell_type": "code",
   "execution_count": 22,
   "metadata": {
    "colab": {
     "base_uri": "https://localhost:8080/",
     "height": 718
    },
    "id": "ddDFL2N49yD8",
    "outputId": "0bff1ab2-c586-4f0e-98c4-2f296e20fb10"
   },
   "outputs": [
    {
     "data": {
      "image/png": "[encoded data removed]",
      "text/plain": [
       "<Figure size 720x576 with 1 Axes>"
      ]
     },
     "metadata": {
      "needs_background": "light"
     },
     "output_type": "display_data"
    }
   ],
   "source": [
    "# Feature Importance\n",
    "\n",
    "# Get the absolute values of the coefficients\n",
    "feature_importances = np.abs(clf.coef_).flatten()\n",
    "\n",
    "# Create a DataFrame for feature importance\n",
    "importance_df = pd.DataFrame({\n",
    "    'Feature': features_for_modelling,\n",
    "    'Importance': feature_importances\n",
    "})\n",
    "\n",
    "# Sort by importance\n",
    "importance_df = importance_df.sort_values(by='Importance', ascending=False).head(20)\n",
    "\n",
    "# Plot the top 20 feature importances\n",
    "plt.figure(figsize=(10, 8))\n",
    "plt.barh(importance_df['Feature'], importance_df['Importance'], color='skyblue')\n",
    "plt.gca().invert_yaxis()  # To display the most important feature at the top\n",
    "plt.xlabel('Feature Importance')\n",
    "plt.title('Top 20 Feature Importances')\n",
    "plt.show()"
   ]
  },
  {
   "cell_type": "markdown",
   "metadata": {
    "id": "28MmdSCq0zre"
   },
   "source": [
    "## Model Prediction & Inference"
   ]
  },
  {
   "cell_type": "code",
   "execution_count": 26,
   "metadata": {},
   "outputs": [
    {
     "data": {
      "text/plain": [
       "9     Lender_portion_to_be_repaid\n",
       "7         Amount_Funded_By_Lender\n",
       "26              loan_type_Type_19\n",
       "19              loan_type_Type_12\n",
       "24              loan_type_Type_17\n",
       "20              loan_type_Type_13\n",
       "23              loan_type_Type_16\n",
       "32              loan_type_Type_24\n",
       "31              loan_type_Type_23\n",
       "29              loan_type_Type_21\n",
       "4           Total_Amount_to_Repay\n",
       "22              loan_type_Type_15\n",
       "Name: Feature, dtype: object"
      ]
     },
     "execution_count": 26,
     "metadata": {},
     "output_type": "execute_result"
    }
   ],
   "source": [
    "importance_df['Feature'][:12]"
   ]
  },
  {
   "cell_type": "code",
   "execution_count": 40,
   "metadata": {},
   "outputs": [],
   "source": [
    "features_for_modelling = ['Lender_portion_to_be_repaid',\n",
    "                          'Amount_Funded_By_Lender',\n",
    "                          'loan_type_Type_19',\n",
    "                          'loan_type_Type_12',\n",
    "                          'loan_type_Type_17',\n",
    "                          'loan_type_Type_13',\n",
    "                          'loan_type_Type_16',\n",
    "                          'loan_type_Type_24',\n",
    "                          'loan_type_Type_23',\n",
    "                          'loan_type_Type_21',\n",
    "                          'Total_Amount_to_Repay',\n",
    "                          'loan_type_Type_15']"
   ]
  },
  {
   "cell_type": "code",
   "execution_count": 41,
   "metadata": {},
   "outputs": [
    {
     "name": "stdout",
     "output_type": "stream",
     "text": [
      "(51490, 12) (17164, 12) (51490,) (17164,)\n"
     ]
    }
   ],
   "source": [
    "from sklearn.model_selection import train_test_split\n",
    "X_train, X_valid, y_train, y_valid = train_test_split(train_df[features_for_modelling], train['target'], stratify=train['target'], shuffle=True, random_state=42)\n",
    "print(X_train.shape, X_valid.shape, y_train.shape, y_valid.shape)"
   ]
  },
  {
   "cell_type": "code",
   "execution_count": 29,
   "metadata": {},
   "outputs": [
    {
     "name": "stdout",
     "output_type": "stream",
     "text": [
      "F1 Score: 0.5755\n",
      "ROC AUC Score: 0.9400\n",
      "\n",
      "Classification Report:\n",
      "               precision    recall  f1-score   support\n",
      "\n",
      "           0       0.99      0.99      0.99     16849\n",
      "           1       0.53      0.63      0.58       315\n",
      "\n",
      "    accuracy                           0.98     17164\n",
      "   macro avg       0.76      0.81      0.78     17164\n",
      "weighted avg       0.98      0.98      0.98     17164\n",
      "\n"
     ]
    },
    {
     "data": {
      "image/png": "[encoded data removed]",
      "text/plain": [
       "<Figure size 432x288 with 2 Axes>"
      ]
     },
     "metadata": {
      "needs_background": "light"
     },
     "output_type": "display_data"
    }
   ],
   "source": [
    "\n",
    "# # Standard Scaling\n",
    "# scaler = StandardScaler()\n",
    "# X_train_scaled = scaler.fit_transform(X_train)\n",
    "# X_valid_scaled = scaler.transform(X_valid)\n",
    "\n",
    "# # Logistic Regression Classifier\n",
    "# clf = LogisticRegression(\n",
    "#     random_state=seed,\n",
    "#     class_weight=\"balanced\",  # Handle class imbalance\n",
    "# )\n",
    "# clf.fit(X_train_scaled, y_train)\n",
    "\n",
    "# # Predictions\n",
    "# y_pred = clf.predict(X_valid_scaled)\n",
    "# y_pred_proba = clf.predict_proba(X_valid_scaled)[:, 1]\n",
    "\n",
    "# # Evaluation Metrics\n",
    "# f1 = f1_score(y_valid, y_pred)\n",
    "# roc_auc = roc_auc_score(y_valid, y_pred_proba)\n",
    "\n",
    "# print(f\"F1 Score: {f1:.4f}\")\n",
    "# print(f\"ROC AUC Score: {roc_auc:.4f}\")\n",
    "# print(\"\\nClassification Report:\\n\", classification_report(y_valid, y_pred))\n",
    "\n",
    "# # Compute the confusion matrix\n",
    "# cm = confusion_matrix(y_valid, y_pred)\n",
    "\n",
    "# # Confusion Matrix\n",
    "# # Confusion Matrix Visualization\n",
    "# ConfusionMatrixDisplay(\n",
    "#     confusion_matrix=cm,\n",
    "#     display_labels=clf.classes_,\n",
    "# #     cmap=plt.cm.Blues\n",
    "# ).plot()\n",
    "# plt.title(\"Confusion Matrix\")\n",
    "# plt.show()\n"
   ]
  },
  {
   "cell_type": "code",
   "execution_count": 42,
   "metadata": {},
   "outputs": [
    {
     "name": "stdout",
     "output_type": "stream",
     "text": [
      "F1 Score: 0.6133\n",
      "ROC AUC Score: 0.9583\n",
      "\n",
      "Classification Report:\n",
      "               precision    recall  f1-score   support\n",
      "\n",
      "           0       0.99      0.99      0.99     16849\n",
      "           1       0.54      0.72      0.61       315\n",
      "\n",
      "    accuracy                           0.98     17164\n",
      "   macro avg       0.77      0.85      0.80     17164\n",
      "weighted avg       0.99      0.98      0.98     17164\n",
      "\n"
     ]
    },
    {
     "data": {
      "image/png": "[encoded data removed]",
      "text/plain": [
       "<Figure size 432x288 with 2 Axes>"
      ]
     },
     "metadata": {
      "needs_background": "light"
     },
     "output_type": "display_data"
    }
   ],
   "source": [
    "import numpy as np\n",
    "from sklearn.preprocessing import Normalizer\n",
    "from sklearn.linear_model import LogisticRegression\n",
    "from sklearn.metrics import (\n",
    "    f1_score,\n",
    "    roc_auc_score,\n",
    "    classification_report,\n",
    "    confusion_matrix,\n",
    "    ConfusionMatrixDisplay,\n",
    ")\n",
    "import matplotlib.pyplot as plt\n",
    "\n",
    "# Set seed for reproducibility\n",
    "SEED = 42\n",
    "np.random.seed(SEED)\n",
    "\n",
    "# Normalize the data\n",
    "normalizer = Normalizer()\n",
    "X_train_normalized = normalizer.fit_transform(X_train)\n",
    "X_valid_normalized = normalizer.transform(X_valid)\n",
    "\n",
    "# Logistic Regression Classifier\n",
    "clf = LogisticRegression(\n",
    "    random_state=SEED,\n",
    "    class_weight=\"balanced\"  # Handle class imbalance\n",
    ")\n",
    "clf.fit(X_train_normalized, y_train)\n",
    "\n",
    "# Predictions\n",
    "y_pred = clf.predict(X_valid_normalized)\n",
    "y_pred_proba = clf.predict_proba(X_valid_normalized)[:, 1]\n",
    "\n",
    "# Evaluation Metrics\n",
    "f1 = f1_score(y_valid, y_pred)\n",
    "roc_auc = roc_auc_score(y_valid, y_pred_proba)\n",
    "\n",
    "print(f\"F1 Score: {f1:.4f}\")\n",
    "print(f\"ROC AUC Score: {roc_auc:.4f}\")\n",
    "print(\"\\nClassification Report:\\n\", classification_report(y_valid, y_pred))\n",
    "\n",
    "# Compute the confusion matrix\n",
    "cm = confusion_matrix(y_valid, y_pred)\n",
    "\n",
    "# Confusion Matrix Visualization\n",
    "ConfusionMatrixDisplay(\n",
    "    confusion_matrix=cm,\n",
    "    display_labels=clf.classes_\n",
    ").plot()\n",
    "plt.title(\"Confusion Matrix\")\n",
    "plt.show()\n"
   ]
  },
  {
   "cell_type": "markdown",
   "metadata": {},
   "source": [
    "#### Using K Folds Crossvalidation to tune hyperparameters"
   ]
  },
  {
   "cell_type": "code",
   "execution_count": 45,
   "metadata": {},
   "outputs": [
    {
     "name": "stdout",
     "output_type": "stream",
     "text": [
      "Fitting 5 folds for each of 60 candidates, totalling 300 fits\n"
     ]
    },
    {
     "name": "stderr",
     "output_type": "stream",
     "text": [
      "[Parallel(n_jobs=-1)]: Using backend LokyBackend with 4 concurrent workers.\n",
      "[Parallel(n_jobs=-1)]: Done  42 tasks      | elapsed:  3.8min\n",
      "[Parallel(n_jobs=-1)]: Done 192 tasks      | elapsed: 14.9min\n",
      "[Parallel(n_jobs=-1)]: Done 300 out of 300 | elapsed: 21.7min finished\n"
     ]
    },
    {
     "name": "stdout",
     "output_type": "stream",
     "text": [
      "Best Parameters: {'C': 0.1, 'class_weight': 'balanced', 'penalty': 'l2', 'solver': 'liblinear'}\n",
      "Best Cross-Validation F1 Score: 0.6314576157138779\n",
      "F1 Score: 0.6128\n",
      "ROC AUC Score: 0.9315\n",
      "\n",
      "Classification Report:\n",
      "               precision    recall  f1-score   support\n",
      "\n",
      "           0       0.99      0.99      0.99     16849\n",
      "           1       0.59      0.64      0.61       315\n",
      "\n",
      "    accuracy                           0.99     17164\n",
      "   macro avg       0.79      0.81      0.80     17164\n",
      "weighted avg       0.99      0.99      0.99     17164\n",
      "\n"
     ]
    },
    {
     "data": {
      "image/png": "[encoded data removed]",
      "text/plain": [
       "<Figure size 432x288 with 2 Axes>"
      ]
     },
     "metadata": {
      "needs_background": "light"
     },
     "output_type": "display_data"
    }
   ],
   "source": [
    "from sklearn.model_selection import GridSearchCV, StratifiedKFold\n",
    "from sklearn.linear_model import LogisticRegression\n",
    "from sklearn.preprocessing import Normalizer\n",
    "from sklearn.metrics import (\n",
    "    make_scorer,\n",
    "    f1_score,\n",
    "    roc_auc_score,\n",
    "    classification_report,\n",
    "    confusion_matrix,\n",
    "    ConfusionMatrixDisplay,\n",
    ")\n",
    "import numpy as np\n",
    "import matplotlib.pyplot as plt\n",
    "\n",
    "# Set seed for reproducibility\n",
    "SEED = 42\n",
    "np.random.seed(SEED)\n",
    "\n",
    "# Normalize the data\n",
    "normalizer = Normalizer()\n",
    "X_train_normalized = normalizer.fit_transform(X_train)\n",
    "X_valid_normalized = normalizer.transform(X_valid)\n",
    "\n",
    "# Define parameter grid for Logistic Regression\n",
    "param_grid = {\n",
    "    \"C\": [0.01, 0.1, 1, 10, 100],  # Inverse of regularization strength\n",
    "    \"penalty\": [\"l1\", \"l2\", \"elasticnet\"],  # Regularization penalties\n",
    "    \"solver\": [\"liblinear\", \"saga\"],  # Solvers compatible with l1 or elasticnet\n",
    "    \"class_weight\": [\"balanced\", None],  # Handle class imbalance\n",
    "}\n",
    "\n",
    "# Custom scorer combining F1 and ROC AUC\n",
    "scorer = make_scorer(f1_score, average=\"binary\")\n",
    "\n",
    "# Stratified K-Folds for balanced class splits\n",
    "cv = StratifiedKFold(n_splits=5, shuffle=True, random_state=SEED)\n",
    "\n",
    "# Perform Grid Search with Cross Validation\n",
    "clf = LogisticRegression(random_state=SEED, max_iter=1000)\n",
    "grid_search = GridSearchCV(\n",
    "    estimator=clf,\n",
    "    param_grid=param_grid,\n",
    "    scoring=scorer,\n",
    "    cv=cv,\n",
    "    verbose=1,\n",
    "    n_jobs=-1,  # Utilize all processors\n",
    ")\n",
    "\n",
    "# Fit Grid Search on training data\n",
    "grid_search.fit(X_train_normalized, y_train)\n",
    "\n",
    "# Best parameters and score from cross-validation\n",
    "print(\"Best Parameters:\", grid_search.best_params_)\n",
    "print(\"Best Cross-Validation F1 Score:\", grid_search.best_score_)\n",
    "\n",
    "# Train the best model on the full training set\n",
    "best_clf = grid_search.best_estimator_\n",
    "\n",
    "# Predictions on validation set\n",
    "y_pred = best_clf.predict(X_valid_normalized)\n",
    "y_pred_proba = best_clf.predict_proba(X_valid_normalized)[:, 1]\n",
    "\n",
    "# Evaluation Metrics\n",
    "f1 = f1_score(y_valid, y_pred)\n",
    "roc_auc = roc_auc_score(y_valid, y_pred_proba)\n",
    "\n",
    "print(f\"F1 Score: {f1:.4f}\")\n",
    "print(f\"ROC AUC Score: {roc_auc:.4f}\")\n",
    "print(\"\\nClassification Report:\\n\", classification_report(y_valid, y_pred))\n",
    "\n",
    "# Confusion Matrix Visualization\n",
    "cm = confusion_matrix(y_valid, y_pred)\n",
    "ConfusionMatrixDisplay(confusion_matrix=cm, display_labels=best_clf.classes_).plot()\n",
    "plt.title(\"Confusion Matrix\")\n",
    "plt.show()\n"
   ]
  },
  {
   "cell_type": "code",
   "execution_count": 55,
   "metadata": {},
   "outputs": [],
   "source": [
    "# Make predictions on the test dataset\n",
    "test_predictions = best_clf.predict(test_df[features_for_modelling])\n",
    "test_predictions_proba = best_clf.predict_proba(test_df[features_for_modelling])[:, 1]\n",
    "\n",
    "# Save the predictions to a CSV file\n",
    "\n",
    "test_df['target'] = test_predictions\n",
    "sub =  test_df[['ID', 'target']]\n",
    "sub.head()\n"
   ]
  },
  {
   "cell_type": "code",
   "execution_count": 47,
   "metadata": {},
   "outputs": [],
   "source": [
    "sub.to_csv('baseline_submission.csv', index=False)"
   ]
  },
  {
   "cell_type": "markdown",
   "metadata": {},
   "source": [
    "#### Using XGBoost Classifier"
   ]
  },
  {
   "cell_type": "code",
   "execution_count": 48,
   "metadata": {},
   "outputs": [],
   "source": [
    "features_for_modelling = ['Lender_portion_to_be_repaid',\n",
    "                          'Amount_Funded_By_Lender',\n",
    "                          'loan_type_Type_19',\n",
    "                          'loan_type_Type_12',\n",
    "                          'loan_type_Type_17',\n",
    "                          'loan_type_Type_13',\n",
    "                          'loan_type_Type_16',\n",
    "                          'loan_type_Type_24',\n",
    "                          'loan_type_Type_23',\n",
    "                          'loan_type_Type_21',\n",
    "                          'Total_Amount_to_Repay',\n",
    "                          'loan_type_Type_15']"
   ]
  },
  {
   "cell_type": "code",
   "execution_count": 56,
   "metadata": {},
   "outputs": [
    {
     "name": "stdout",
     "output_type": "stream",
     "text": [
      "(51490, 40) (17164, 40) (51490,) (17164,)\n"
     ]
    }
   ],
   "source": [
    "from sklearn.model_selection import train_test_split\n",
    "X_train, X_valid, y_train, y_valid = train_test_split(train_df[features_for_modelling], train['target'], stratify=train['target'], shuffle=True, random_state=42)\n",
    "print(X_train.shape, X_valid.shape, y_train.shape, y_valid.shape)"
   ]
  },
  {
   "cell_type": "code",
   "execution_count": 50,
   "metadata": {},
   "outputs": [
    {
     "name": "stdout",
     "output_type": "stream",
     "text": [
      "Fitting 5 folds for each of 72 candidates, totalling 360 fits\n"
     ]
    },
    {
     "name": "stderr",
     "output_type": "stream",
     "text": [
      "[Parallel(n_jobs=-1)]: Using backend LokyBackend with 4 concurrent workers.\n",
      "[Parallel(n_jobs=-1)]: Done  42 tasks      | elapsed:  2.2min\n",
      "[Parallel(n_jobs=-1)]: Done 192 tasks      | elapsed:  8.6min\n",
      "[Parallel(n_jobs=-1)]: Done 360 out of 360 | elapsed: 15.6min finished\n"
     ]
    },
    {
     "name": "stdout",
     "output_type": "stream",
     "text": [
      "[00:05:36] WARNING: C:\\Users\\Administrator\\workspace\\xgboost-win64_release_1.2.0\\src\\learner.cc:516: \n",
      "Parameters: { use_label_encoder } might not be used.\n",
      "\n",
      "  This may not be accurate due to some parameters are only used in language bindings but\n",
      "  passed down to XGBoost core.  Or some parameters are not used but slip through this\n",
      "  verification. Please open an issue if you find above cases.\n",
      "\n",
      "\n",
      "Best Parameters: {'colsample_bytree': 1, 'eta': 0.2, 'eval_metric': 'auc', 'max_depth': 7, 'objective': 'binary:logistic', 'scale_pos_weight': 1, 'seed': 42, 'subsample': 0.8}\n",
      "F1 Score: 0.7175\n",
      "ROC AUC Score: 0.9795\n",
      "\n",
      "Classification Report:\n",
      "               precision    recall  f1-score   support\n",
      "\n",
      "           0       0.99      1.00      1.00     16849\n",
      "           1       0.87      0.61      0.72       315\n",
      "\n",
      "    accuracy                           0.99     17164\n",
      "   macro avg       0.93      0.81      0.86     17164\n",
      "weighted avg       0.99      0.99      0.99     17164\n",
      "\n"
     ]
    },
    {
     "data": {
      "image/png": "[encoded data removed]",
      "text/plain": [
       "<Figure size 432x288 with 2 Axes>"
      ]
     },
     "metadata": {
      "needs_background": "light"
     },
     "output_type": "display_data"
    }
   ],
   "source": [
    "import xgboost as xgb\n",
    "from sklearn.metrics import (\n",
    "    f1_score,\n",
    "    roc_auc_score,\n",
    "    classification_report,\n",
    "    confusion_matrix,\n",
    "    ConfusionMatrixDisplay,\n",
    ")\n",
    "from sklearn.model_selection import train_test_split, GridSearchCV\n",
    "import numpy as np\n",
    "import matplotlib.pyplot as plt\n",
    "\n",
    "# Set seed for reproducibility\n",
    "SEED = 42\n",
    "np.random.seed(SEED)\n",
    "\n",
    "# Split the data into training and validation sets if not already done\n",
    "# Assuming X and y are the full feature and label datasets\n",
    "# X_train, X_valid, y_train, y_valid are assumed if pre-split\n",
    "# Otherwise:\n",
    "# X_train, X_valid, y_train, y_valid = train_test_split(X, y, test_size=0.2, stratify=y, random_state=SEED)\n",
    "\n",
    "# # XGBoost Data Matrix (DMatrix is a special format optimized for XGBoost)\n",
    "# dtrain = xgb.DMatrix(X_train, label=y_train)\n",
    "# dvalid = xgb.DMatrix(X_valid, label=y_valid)\n",
    "\n",
    "# Parameter grid for hyperparameter tuning\n",
    "param_grid = {\n",
    "    \"eta\": [0.01, 0.1, 0.2],  # Learning rate\n",
    "    \"max_depth\": [3, 5, 7],   # Tree depth\n",
    "    \"scale_pos_weight\": [1, len(y_train[y_train == 0]) / len(y_train[y_train == 1])],  # Handle imbalance\n",
    "    \"subsample\": [0.8, 1],    # Row sampling\n",
    "    \"colsample_bytree\": [0.8, 1],  # Feature sampling\n",
    "    \"objective\": [\"binary:logistic\"],  # Binary classification\n",
    "    \"eval_metric\": [\"auc\"],\n",
    "    \"seed\": [SEED],\n",
    "}\n",
    "\n",
    "# XGBoost Model\n",
    "xgb_clf = xgb.XGBClassifier(random_state=SEED)\n",
    "\n",
    "# Cross-validation and Grid Search\n",
    "grid_search = GridSearchCV(\n",
    "    estimator=xgb_clf,\n",
    "    param_grid=param_grid,\n",
    "    scoring=\"f1\",\n",
    "    cv=5,\n",
    "    verbose=1,\n",
    "    n_jobs=-1,\n",
    ")\n",
    "\n",
    "grid_search.fit(X_train, y_train)\n",
    "\n",
    "# Best parameters and model\n",
    "print(\"Best Parameters:\", grid_search.best_params_)\n",
    "best_xgb = grid_search.best_estimator_\n",
    "\n",
    "# Predictions\n",
    "y_pred = best_xgb.predict(X_valid)\n",
    "y_pred_proba = best_xgb.predict_proba(X_valid)[:, 1]\n",
    "\n",
    "# Evaluation Metrics\n",
    "f1 = f1_score(y_valid, y_pred)\n",
    "roc_auc = roc_auc_score(y_valid, y_pred_proba)\n",
    "\n",
    "print(f\"F1 Score: {f1:.4f}\")\n",
    "print(f\"ROC AUC Score: {roc_auc:.4f}\")\n",
    "print(\"\\nClassification Report:\\n\", classification_report(y_valid, y_pred))\n",
    "\n",
    "# Confusion Matrix Visualization\n",
    "cm = confusion_matrix(y_valid, y_pred)\n",
    "ConfusionMatrixDisplay(confusion_matrix=cm, display_labels=best_xgb.classes_).plot()\n",
    "plt.title(\"Confusion Matrix\")\n",
    "plt.show()\n"
   ]
  },
  {
   "cell_type": "markdown",
   "metadata": {},
   "source": [
    "### Using the best parameters obtained to train the XGBoost with all the features"
   ]
  },
  {
   "cell_type": "code",
   "execution_count": null,
   "metadata": {},
   "outputs": [],
   "source": [
    "best_parameters = {'colsample_bytree': 1, 'eta': 0.2, 'eval_metric': 'auc', 'max_depth': 7, 'objective': 'binary:logistic', 'scale_pos_weight': 1, 'seed': 42, 'subsample': 0.8}"
   ]
  },
  {
   "cell_type": "code",
   "execution_count": 57,
   "metadata": {},
   "outputs": [
    {
     "name": "stdout",
     "output_type": "stream",
     "text": [
      "[0]\ttrain-auc:0.79713\tvalid-auc:0.80815\n",
      "Multiple eval metrics have been passed: 'valid-auc' will be used for early stopping.\n",
      "\n",
      "Will train until valid-auc hasn't improved in 20 rounds.\n",
      "[10]\ttrain-auc:0.89662\tvalid-auc:0.88585\n",
      "[20]\ttrain-auc:0.95709\tvalid-auc:0.93337\n",
      "[30]\ttrain-auc:0.98831\tvalid-auc:0.96831\n",
      "[40]\ttrain-auc:0.99497\tvalid-auc:0.97543\n",
      "[50]\ttrain-auc:0.99804\tvalid-auc:0.98048\n",
      "[60]\ttrain-auc:0.99899\tvalid-auc:0.98239\n",
      "[70]\ttrain-auc:0.99949\tvalid-auc:0.98362\n",
      "[80]\ttrain-auc:0.99979\tvalid-auc:0.98608\n",
      "[90]\ttrain-auc:0.99986\tvalid-auc:0.98665\n",
      "[100]\ttrain-auc:0.99993\tvalid-auc:0.98695\n",
      "[110]\ttrain-auc:0.99995\tvalid-auc:0.98727\n",
      "[120]\ttrain-auc:0.99996\tvalid-auc:0.98781\n",
      "[130]\ttrain-auc:0.99999\tvalid-auc:0.98791\n",
      "[140]\ttrain-auc:0.99999\tvalid-auc:0.98807\n",
      "Stopping. Best iteration:\n",
      "[123]\ttrain-auc:0.99997\tvalid-auc:0.98820\n",
      "\n",
      "F1 Score: 0.7332\n",
      "ROC AUC Score: 0.9881\n",
      "\n",
      "Classification Report:\n",
      "               precision    recall  f1-score   support\n",
      "\n",
      "           0       0.99      1.00      1.00     16849\n",
      "           1       0.86      0.64      0.73       315\n",
      "\n",
      "    accuracy                           0.99     17164\n",
      "   macro avg       0.92      0.82      0.86     17164\n",
      "weighted avg       0.99      0.99      0.99     17164\n",
      "\n"
     ]
    },
    {
     "data": {
      "image/png": "[encoded data removed]",
      "text/plain": [
       "<Figure size 432x288 with 2 Axes>"
      ]
     },
     "metadata": {
      "needs_background": "light"
     },
     "output_type": "display_data"
    }
   ],
   "source": [
    "import xgboost as xgb\n",
    "from sklearn.metrics import f1_score, roc_auc_score, classification_report, confusion_matrix, ConfusionMatrixDisplay\n",
    "import matplotlib.pyplot as plt\n",
    "\n",
    "# Provided best parameters\n",
    "best_params = {\n",
    "    'colsample_bytree': 1,\n",
    "    'eta': 0.2,  # Learning rate\n",
    "    'eval_metric': 'auc',  # Evaluation metric\n",
    "    'max_depth': 7,  # Tree depth\n",
    "    'objective': 'binary:logistic',  # Binary classification\n",
    "    'scale_pos_weight': 1,  # Handle imbalance\n",
    "    'seed': SEED,  # Reproducibility\n",
    "    'subsample': 0.8  # Row sampling\n",
    "}\n",
    "\n",
    "# Train the model\n",
    "xgb_model = xgb.train(\n",
    "    params=best_params,\n",
    "    dtrain=dtrain,\n",
    "    num_boost_round=500,  # Max boosting rounds\n",
    "    early_stopping_rounds=20,  # Stop if no improvement\n",
    "    verbose_eval=10  # Progress updates every 10 rounds\n",
    ")\n",
    "\n",
    "# Predictions on validation data\n",
    "y_pred_proba = xgb_model.predict(dvalid)\n",
    "y_pred = (y_pred_proba >= 0.5).astype(int)  # Convert probabilities to binary\n",
    "\n",
    "# Evaluation Metrics\n",
    "f1 = f1_score(y_valid, y_pred)\n",
    "roc_auc = roc_auc_score(y_valid, y_pred_proba)\n",
    "\n",
    "print(f\"F1 Score: {f1:.4f}\")\n",
    "print(f\"ROC AUC Score: {roc_auc:.4f}\")\n",
    "print(\"\\nClassification Report:\\n\", classification_report(y_valid, y_pred))\n",
    "\n",
    "# Confusion Matrix Visualization\n",
    "cm = confusion_matrix(y_valid, y_pred)\n",
    "ConfusionMatrixDisplay(confusion_matrix=cm, display_labels=[0, 1]).plot()\n",
    "plt.title(\"Confusion Matrix\")\n",
    "plt.show()\n"
   ]
  },
  {
   "cell_type": "code",
   "execution_count": 62,
   "metadata": {},
   "outputs": [
    {
     "name": "stdout",
     "output_type": "stream",
     "text": [
      "F1 Score: 0.7063\n",
      "ROC AUC Score: 0.9868\n",
      "\n",
      "Classification Report:\n",
      "               precision    recall  f1-score   support\n",
      "\n",
      "           0       0.99      1.00      1.00     16849\n",
      "           1       0.85      0.60      0.71       315\n",
      "\n",
      "    accuracy                           0.99     17164\n",
      "   macro avg       0.92      0.80      0.85     17164\n",
      "weighted avg       0.99      0.99      0.99     17164\n",
      "\n"
     ]
    },
    {
     "data": {
      "image/png": "[encoded data removed]",
      "text/plain": [
       "<Figure size 432x288 with 2 Axes>"
      ]
     },
     "metadata": {
      "needs_background": "light"
     },
     "output_type": "display_data"
    }
   ],
   "source": [
    "import xgboost as xgb\n",
    "from sklearn.metrics import (\n",
    "    f1_score,\n",
    "    roc_auc_score,\n",
    "    classification_report,\n",
    "    confusion_matrix,\n",
    "    ConfusionMatrixDisplay,\n",
    ")\n",
    "from sklearn.model_selection import train_test_split\n",
    "import numpy as np\n",
    "import matplotlib.pyplot as plt\n",
    "\n",
    "# Set seed for reproducibility\n",
    "SEED = 42\n",
    "np.random.seed(SEED)\n",
    "\n",
    "# Split the data into training and validation sets if not already done\n",
    "# Assuming X and y are the full feature and label datasets\n",
    "# X_train, X_valid, y_train, y_valid are assumed if pre-split\n",
    "# Otherwise:\n",
    "# X_train, X_valid, y_train, y_valid = train_test_split(X, y, test_size=0.2, stratify=y, random_state=SEED)\n",
    "\n",
    "# Set best parameters\n",
    "best_params = {\n",
    "    'colsample_bytree': 1,\n",
    "    'eta': 0.2,  # Learning rate\n",
    "    'eval_metric': 'auc',  # Evaluation metric\n",
    "    'max_depth': 7,  # Tree depth\n",
    "    'objective': 'binary:logistic',  # Binary classification\n",
    "    'scale_pos_weight': 1,  # Handle imbalance\n",
    "    'seed': SEED,  # Reproducibility\n",
    "    'subsample': 0.8  # Row sampling\n",
    "}\n",
    "\n",
    "# XGBoost Model\n",
    "xgb_clf = xgb.XGBClassifier(**best_params)\n",
    "\n",
    "# Train the model\n",
    "xgb_clf.fit(X_train, y_train)\n",
    "\n",
    "# Predictions\n",
    "y_pred = xgb_clf.predict(X_valid)\n",
    "y_pred_proba = xgb_clf.predict_proba(X_valid)[:, 1]\n",
    "\n",
    "# Evaluation Metrics\n",
    "f1 = f1_score(y_valid, y_pred)\n",
    "roc_auc = roc_auc_score(y_valid, y_pred_proba)\n",
    "\n",
    "print(f\"F1 Score: {f1:.4f}\")\n",
    "print(f\"ROC AUC Score: {roc_auc:.4f}\")\n",
    "print(\"\\nClassification Report:\\n\", classification_report(y_valid, y_pred))\n",
    "\n",
    "# Confusion Matrix Visualization\n",
    "cm = confusion_matrix(y_valid, y_pred)\n",
    "ConfusionMatrixDisplay(confusion_matrix=cm, display_labels=xgb_clf.classes_).plot()\n",
    "plt.title(\"Confusion Matrix\")\n",
    "plt.show()\n"
   ]
  },
  {
   "cell_type": "markdown",
   "metadata": {},
   "source": [
    "#### Run the XGBoost Classifier without performing any encoding"
   ]
  },
  {
   "cell_type": "code",
   "execution_count": 83,
   "metadata": {},
   "outputs": [],
   "source": [
    "data = pd.concat([train, test]).reset_index(drop=True)"
   ]
  },
  {
   "cell_type": "code",
   "execution_count": 84,
   "metadata": {},
   "outputs": [],
   "source": [
    "# Convert the datetime columns appropriately\n",
    "date_cols = ['disbursement_date', 'due_date']\n",
    "for col in date_cols:\n",
    "    data[col] = pd.to_datetime(data[col])\n",
    "    # Extract month, day, and year from the date columns\n",
    "    data[col+'_month'] = data[col].dt.month\n",
    "    data[col+'_day'] = data[col].dt.day\n",
    "    data[col+'_year'] = data[col].dt.year"
   ]
  },
  {
   "cell_type": "code",
   "execution_count": 85,
   "metadata": {},
   "outputs": [
    {
     "name": "stdout",
     "output_type": "stream",
     "text": [
      "The categorical columns are: Index(['ID', 'country_id', 'loan_type', 'New_versus_Repeat'], dtype='object').\n",
      "----------------------------------------------------------------------------------------------------\n",
      "The numerical columns are: ['customer_id', 'tbl_loan_id', 'lender_id', 'Total_Amount', 'Total_Amount_to_Repay', 'duration', 'Amount_Funded_By_Lender', 'Lender_portion_Funded', 'Lender_portion_to_be_repaid', 'disbursement_date_month', 'disbursement_date_day', 'disbursement_date_year', 'due_date_month', 'due_date_day', 'due_date_year']\n",
      "----------------------------------------------------------------------------------------------------\n"
     ]
    }
   ],
   "source": [
    "# Select all categorical columns from the dataset and label encode them or one hot encode\n",
    "cat_cols = data.select_dtypes(include='object').columns\n",
    "num_cols = [col for col in data.select_dtypes(include='number').columns if col not in ['target']]\n",
    "print(f\"The categorical columns are: {cat_cols}.\")\n",
    "print(\"-\"* 100)\n",
    "print(f\"The numerical columns are: {num_cols}\")\n",
    "print(\"-\"* 100)\n",
    "# we are going to one  hot encode the loan type\n",
    "# data = pd.get_dummies(data, columns=['loan_type'], prefix='loan_type', drop_first=False)\n",
    "# Convert all the columns with prefix loan_type_ to 0/1 instead of False/True\n",
    "loan_type_cols = [col for col in data.columns if col.startswith('loan_type_')]\n",
    "data[loan_type_cols] = data[loan_type_cols].astype(int)\n",
    "\n",
    "# Label-encoding for the other remaining categorical columns\n",
    "le = LabelEncoder()\n",
    "for col in [col for col in cat_cols if col not in ['ID']]:\n",
    "    data[col] = le.fit_transform(data[col])"
   ]
  },
  {
   "cell_type": "code",
   "execution_count": 86,
   "metadata": {},
   "outputs": [],
   "source": [
    "# Splitting the data back into train and test\n",
    "train_df = data[data['ID'].isin(train['ID'].unique())]\n",
    "\n",
    "test_df = data[data['ID'].isin(test['ID'].unique())]"
   ]
  },
  {
   "cell_type": "code",
   "execution_count": 87,
   "metadata": {},
   "outputs": [],
   "source": [
    "# we are also going to drop the country id as we saw we have only one country in train\n",
    "features_for_modelling = [col for col in train_df.columns if col not in date_cols + ['ID', 'target', 'country_id']]"
   ]
  },
  {
   "cell_type": "code",
   "execution_count": 88,
   "metadata": {},
   "outputs": [
    {
     "data": {
      "text/plain": [
       "['customer_id',\n",
       " 'tbl_loan_id',\n",
       " 'lender_id',\n",
       " 'loan_type',\n",
       " 'Total_Amount',\n",
       " 'Total_Amount_to_Repay',\n",
       " 'duration',\n",
       " 'New_versus_Repeat',\n",
       " 'Amount_Funded_By_Lender',\n",
       " 'Lender_portion_Funded',\n",
       " 'Lender_portion_to_be_repaid',\n",
       " 'disbursement_date_month',\n",
       " 'disbursement_date_day',\n",
       " 'disbursement_date_year',\n",
       " 'due_date_month',\n",
       " 'due_date_day',\n",
       " 'due_date_year']"
      ]
     },
     "execution_count": 88,
     "metadata": {},
     "output_type": "execute_result"
    }
   ],
   "source": [
    "features_for_modelling"
   ]
  },
  {
   "cell_type": "code",
   "execution_count": 89,
   "metadata": {},
   "outputs": [
    {
     "name": "stdout",
     "output_type": "stream",
     "text": [
      "(51490, 17) (17164, 17) (51490,) (17164,)\n"
     ]
    }
   ],
   "source": [
    "from sklearn.model_selection import train_test_split\n",
    "X_train, X_valid, y_train, y_valid = train_test_split(train_df[features_for_modelling], train['target'], stratify=train['target'], shuffle=True, random_state=42)\n",
    "print(X_train.shape, X_valid.shape, y_train.shape, y_valid.shape)"
   ]
  },
  {
   "cell_type": "code",
   "execution_count": 75,
   "metadata": {},
   "outputs": [
    {
     "name": "stdout",
     "output_type": "stream",
     "text": [
      "F1 Score: 0.7105\n",
      "ROC AUC Score: 0.9874\n",
      "\n",
      "Classification Report:\n",
      "               precision    recall  f1-score   support\n",
      "\n",
      "           0       0.99      1.00      1.00     16849\n",
      "           1       0.87      0.60      0.71       315\n",
      "\n",
      "    accuracy                           0.99     17164\n",
      "   macro avg       0.93      0.80      0.85     17164\n",
      "weighted avg       0.99      0.99      0.99     17164\n",
      "\n"
     ]
    },
    {
     "data": {
      "image/png": "[encoded data removed]",
      "text/plain": [
       "<Figure size 432x288 with 2 Axes>"
      ]
     },
     "metadata": {
      "needs_background": "light"
     },
     "output_type": "display_data"
    }
   ],
   "source": [
    "\n",
    "# Set best parameters\n",
    "best_params = {\n",
    "    'colsample_bytree': 1,\n",
    "    'eta': 0.2,  # Learning rate\n",
    "    'eval_metric': 'auc',  # Evaluation metric\n",
    "    'max_depth': 7,  # Tree depth\n",
    "    'objective': 'binary:logistic',  # Binary classification\n",
    "    'scale_pos_weight': 1,  # Handle imbalance\n",
    "    'seed': SEED,  # Reproducibility\n",
    "    'subsample': 0.8  # Row sampling\n",
    "}\n",
    "\n",
    "# XGBoost Model\n",
    "xgb_clf = xgb.XGBClassifier(**best_params)\n",
    "\n",
    "# Train the model\n",
    "xgb_clf.fit(X_train, y_train)\n",
    "\n",
    "# Predictions\n",
    "y_pred = xgb_clf.predict(X_valid)\n",
    "y_pred_proba = xgb_clf.predict_proba(X_valid)[:, 1]\n",
    "\n",
    "# Evaluation Metrics\n",
    "f1 = f1_score(y_valid, y_pred)\n",
    "roc_auc = roc_auc_score(y_valid, y_pred_proba)\n",
    "\n",
    "print(f\"F1 Score: {f1:.4f}\")\n",
    "print(f\"ROC AUC Score: {roc_auc:.4f}\")\n",
    "print(\"\\nClassification Report:\\n\", classification_report(y_valid, y_pred))\n",
    "\n",
    "# Confusion Matrix Visualization\n",
    "cm = confusion_matrix(y_valid, y_pred)\n",
    "ConfusionMatrixDisplay(confusion_matrix=cm, display_labels=xgb_clf.classes_).plot()\n",
    "plt.title(\"Confusion Matrix\")\n",
    "plt.show()\n"
   ]
  },
  {
   "cell_type": "code",
   "execution_count": 80,
   "metadata": {},
   "outputs": [
    {
     "name": "stdout",
     "output_type": "stream",
     "text": [
      "[0]\tvalidation_0-auc:0.80288\n",
      "Will train until validation_0-auc hasn't improved in 20 rounds.\n",
      "[10]\tvalidation_0-auc:0.90338\n",
      "[20]\tvalidation_0-auc:0.93334\n",
      "[30]\tvalidation_0-auc:0.96892\n",
      "[40]\tvalidation_0-auc:0.97676\n",
      "[50]\tvalidation_0-auc:0.98155\n",
      "[60]\tvalidation_0-auc:0.98198\n",
      "[70]\tvalidation_0-auc:0.98395\n",
      "[80]\tvalidation_0-auc:0.98566\n",
      "[90]\tvalidation_0-auc:0.98648\n",
      "[99]\tvalidation_0-auc:0.98740\n",
      "F1 Score: 0.7094\n",
      "ROC AUC Score: 0.9877\n",
      "\n",
      "Classification Report:\n",
      "               precision    recall  f1-score   support\n",
      "\n",
      "           0       0.99      1.00      1.00     16849\n",
      "           1       0.87      0.60      0.71       315\n",
      "\n",
      "    accuracy                           0.99     17164\n",
      "   macro avg       0.93      0.80      0.85     17164\n",
      "weighted avg       0.99      0.99      0.99     17164\n",
      "\n"
     ]
    },
    {
     "data": {
      "image/png": "[encoded data removed]",
      "text/plain": [
       "<Figure size 432x288 with 2 Axes>"
      ]
     },
     "metadata": {
      "needs_background": "light"
     },
     "output_type": "display_data"
    }
   ],
   "source": [
    "import xgboost as xgb\n",
    "from sklearn.metrics import (\n",
    "    f1_score,\n",
    "    roc_auc_score,\n",
    "    classification_report,\n",
    "    confusion_matrix,\n",
    "    ConfusionMatrixDisplay,\n",
    ")\n",
    "from sklearn.model_selection import train_test_split\n",
    "import numpy as np\n",
    "import matplotlib.pyplot as plt\n",
    "\n",
    "# Set seed for reproducibility\n",
    "SEED = 42\n",
    "np.random.seed(SEED)\n",
    "\n",
    "# Best Parameters from previous tuning\n",
    "best_params = {\n",
    "    'colsample_bytree': 1,\n",
    "    'eta': 0.2,  # Learning rate\n",
    "    'eval_metric': 'auc',  # Evaluation metric\n",
    "    'max_depth': 7,  # Tree depth\n",
    "    'objective': 'binary:logistic',  # Binary classification\n",
    "    'scale_pos_weight': 1,  # Handle imbalance\n",
    "    'seed': SEED,  # Reproducibility\n",
    "    'subsample': 0.8  # Row sampling\n",
    "}\n",
    "\n",
    "# XGBoost Classifier\n",
    "xgb_clf = xgb.XGBClassifier(**best_params)\n",
    "\n",
    "# Fit the model\n",
    "xgb_clf.fit(X_train, y_train, eval_set=[(X_valid, y_valid)], early_stopping_rounds=20, verbose=10)\n",
    "\n",
    "# Predictions on the validation set\n",
    "y_pred = xgb_clf.predict(X_valid)\n",
    "y_pred_proba = xgb_clf.predict_proba(X_valid)[:, 1]\n",
    "\n",
    "# Evaluation Metrics\n",
    "f1 = f1_score(y_valid, y_pred)\n",
    "roc_auc = roc_auc_score(y_valid, y_pred_proba)\n",
    "\n",
    "print(f\"F1 Score: {f1:.4f}\")\n",
    "print(f\"ROC AUC Score: {roc_auc:.4f}\")\n",
    "print(\"\\nClassification Report:\\n\", classification_report(y_valid, y_pred))\n",
    "\n",
    "# Confusion Matrix Visualization\n",
    "cm = confusion_matrix(y_valid, y_pred)\n",
    "ConfusionMatrixDisplay(confusion_matrix=cm, display_labels=xgb_clf.classes_).plot()\n",
    "plt.title(\"Confusion Matrix\")\n",
    "plt.show()\n"
   ]
  },
  {
   "cell_type": "markdown",
   "metadata": {},
   "source": [
    "#### Using Normalized data"
   ]
  },
  {
   "cell_type": "code",
   "execution_count": 94,
   "metadata": {},
   "outputs": [
    {
     "name": "stdout",
     "output_type": "stream",
     "text": [
      "[0]\tvalidation_0-auc:0.77234\n",
      "Will train until validation_0-auc hasn't improved in 20 rounds.\n",
      "[10]\tvalidation_0-auc:0.89194\n",
      "[20]\tvalidation_0-auc:0.95089\n",
      "[30]\tvalidation_0-auc:0.96682\n",
      "[40]\tvalidation_0-auc:0.97208\n",
      "[50]\tvalidation_0-auc:0.97573\n",
      "[60]\tvalidation_0-auc:0.97883\n",
      "[70]\tvalidation_0-auc:0.98194\n",
      "[80]\tvalidation_0-auc:0.98223\n",
      "[90]\tvalidation_0-auc:0.98340\n",
      "[99]\tvalidation_0-auc:0.98368\n",
      "F1 Score: 0.6523\n",
      "ROC AUC Score: 0.9837\n",
      "\n",
      "Classification Report:\n",
      "               precision    recall  f1-score   support\n",
      "\n",
      "           0       0.99      1.00      0.99     16849\n",
      "           1       0.86      0.53      0.65       315\n",
      "\n",
      "    accuracy                           0.99     17164\n",
      "   macro avg       0.92      0.76      0.82     17164\n",
      "weighted avg       0.99      0.99      0.99     17164\n",
      "\n"
     ]
    },
    {
     "data": {
      "image/png": "[encoded data removed]",
      "text/plain": [
       "<Figure size 432x288 with 2 Axes>"
      ]
     },
     "metadata": {
      "needs_background": "light"
     },
     "output_type": "display_data"
    }
   ],
   "source": [
    "import xgboost as xgb\n",
    "from sklearn.metrics import (\n",
    "    f1_score,\n",
    "    roc_auc_score,\n",
    "    classification_report,\n",
    "    confusion_matrix,\n",
    "    ConfusionMatrixDisplay,\n",
    ")\n",
    "from sklearn.model_selection import train_test_split\n",
    "from sklearn.preprocessing import Normalizer\n",
    "import numpy as np\n",
    "import matplotlib.pyplot as plt\n",
    "\n",
    "# Set seed for reproducibility\n",
    "SEED = 42\n",
    "np.random.seed(SEED)\n",
    "\n",
    "\n",
    "# Normalize the data\n",
    "normalizer = Normalizer()\n",
    "X_train_normalized = normalizer.fit_transform(X_train)\n",
    "X_valid_normalized = normalizer.transform(X_valid)\n",
    "\n",
    "# Best Parameters from previous tuning\n",
    "best_params = {\n",
    "    'colsample_bytree': 1,\n",
    "    'eta': 0.2,  # Learning rate\n",
    "    'eval_metric': 'auc',  # Evaluation metric\n",
    "    'max_depth': 7,  # Tree depth\n",
    "    'objective': 'binary:logistic',  # Binary classification\n",
    "    'scale_pos_weight': 1,  # Handle imbalance\n",
    "    'seed': SEED,  # Reproducibility\n",
    "    'subsample': 0.8  # Row sampling\n",
    "}\n",
    "\n",
    "# XGBoost Classifier\n",
    "xgb_clf = xgb.XGBClassifier(**best_params)\n",
    "\n",
    "# Fit the model with normalized data\n",
    "xgb_clf.fit(X_train_normalized, y_train, eval_set=[(X_valid_normalized, y_valid)], early_stopping_rounds=20, verbose=10)\n",
    "\n",
    "# Predictions on the validation set\n",
    "y_pred = xgb_clf.predict(X_valid_normalized)\n",
    "y_pred_proba = xgb_clf.predict_proba(X_valid_normalized)[:, 1]\n",
    "\n",
    "# Evaluation Metrics\n",
    "f1 = f1_score(y_valid, y_pred)\n",
    "roc_auc = roc_auc_score(y_valid, y_pred_proba)\n",
    "\n",
    "print(f\"F1 Score: {f1:.4f}\")\n",
    "print(f\"ROC AUC Score: {roc_auc:.4f}\")\n",
    "print(\"\\nClassification Report:\\n\", classification_report(y_valid, y_pred))\n",
    "\n",
    "# Confusion Matrix Visualization\n",
    "cm = confusion_matrix(y_valid, y_pred)\n",
    "ConfusionMatrixDisplay(confusion_matrix=cm, display_labels=xgb_clf.classes_).plot()\n",
    "plt.title(\"Confusion Matrix\")\n",
    "plt.show()\n"
   ]
  },
  {
   "cell_type": "code",
   "execution_count": 99,
   "metadata": {},
   "outputs": [
    {
     "ename": "ValueError",
     "evalue": "feature_names mismatch: ['f0', 'f1', 'f2', 'f3', 'f4', 'f5', 'f6', 'f7', 'f8', 'f9', 'f10', 'f11', 'f12', 'f13', 'f14', 'f15', 'f16'] ['customer_id', 'tbl_loan_id', 'lender_id', 'loan_type', 'Total_Amount', 'Total_Amount_to_Repay', 'duration', 'New_versus_Repeat', 'Amount_Funded_By_Lender', 'Lender_portion_Funded', 'Lender_portion_to_be_repaid', 'disbursement_date_month', 'disbursement_date_day', 'disbursement_date_year', 'due_date_month', 'due_date_day', 'due_date_year']\nexpected f1, f10, f8, f16, f3, f7, f2, f4, f6, f0, f5, f11, f9, f14, f13, f15, f12 in input data\ntraining data did not have the following fields: loan_type, Lender_portion_to_be_repaid, Total_Amount_to_Repay, Total_Amount, customer_id, Amount_Funded_By_Lender, due_date_year, Lender_portion_Funded, duration, disbursement_date_month, disbursement_date_day, New_versus_Repeat, tbl_loan_id, due_date_day, lender_id, disbursement_date_year, due_date_month",
     "output_type": "error",
     "traceback": [
      "\u001b[1;31m---------------------------------------------------------------------------\u001b[0m",
      "\u001b[1;31mValueError\u001b[0m                                Traceback (most recent call last)",
      "\u001b[1;32m<ipython-input-99-464c5eedc109>\u001b[0m in \u001b[0;36m<module>\u001b[1;34m\u001b[0m\n\u001b[0;32m      1\u001b[0m \u001b[1;31m# Make predictions on the test dataset\u001b[0m\u001b[1;33m\u001b[0m\u001b[1;33m\u001b[0m\u001b[1;33m\u001b[0m\u001b[0m\n\u001b[1;32m----> 2\u001b[1;33m \u001b[0mtest_predictions\u001b[0m \u001b[1;33m=\u001b[0m \u001b[0mxgb_clf\u001b[0m\u001b[1;33m.\u001b[0m\u001b[0mpredict\u001b[0m\u001b[1;33m(\u001b[0m\u001b[0mtest_df\u001b[0m\u001b[1;33m[\u001b[0m\u001b[0mfeatures_for_modelling\u001b[0m\u001b[1;33m]\u001b[0m\u001b[1;33m)\u001b[0m\u001b[1;33m\u001b[0m\u001b[1;33m\u001b[0m\u001b[0m\n\u001b[0m\u001b[0;32m      3\u001b[0m \u001b[0mtest_predictions_proba\u001b[0m \u001b[1;33m=\u001b[0m \u001b[0mxgb_clf\u001b[0m\u001b[1;33m.\u001b[0m\u001b[0mpredict_proba\u001b[0m\u001b[1;33m(\u001b[0m\u001b[0mtest_df\u001b[0m\u001b[1;33m[\u001b[0m\u001b[0mfeatures_for_modelling\u001b[0m\u001b[1;33m]\u001b[0m\u001b[1;33m)\u001b[0m\u001b[1;33m[\u001b[0m\u001b[1;33m:\u001b[0m\u001b[1;33m,\u001b[0m \u001b[1;36m1\u001b[0m\u001b[1;33m]\u001b[0m\u001b[1;33m\u001b[0m\u001b[1;33m\u001b[0m\u001b[0m\n",
      "\u001b[1;32m~\\anaconda3\\envs\\learn-env\\lib\\site-packages\\xgboost\\sklearn.py\u001b[0m in \u001b[0;36mpredict\u001b[1;34m(self, data, output_margin, ntree_limit, validate_features, base_margin)\u001b[0m\n\u001b[0;32m    892\u001b[0m         \u001b[1;32mif\u001b[0m \u001b[0mntree_limit\u001b[0m \u001b[1;32mis\u001b[0m \u001b[1;32mNone\u001b[0m\u001b[1;33m:\u001b[0m\u001b[1;33m\u001b[0m\u001b[1;33m\u001b[0m\u001b[0m\n\u001b[0;32m    893\u001b[0m             \u001b[0mntree_limit\u001b[0m \u001b[1;33m=\u001b[0m \u001b[0mgetattr\u001b[0m\u001b[1;33m(\u001b[0m\u001b[0mself\u001b[0m\u001b[1;33m,\u001b[0m \u001b[1;34m\"best_ntree_limit\"\u001b[0m\u001b[1;33m,\u001b[0m \u001b[1;36m0\u001b[0m\u001b[1;33m)\u001b[0m\u001b[1;33m\u001b[0m\u001b[1;33m\u001b[0m\u001b[0m\n\u001b[1;32m--> 894\u001b[1;33m         class_probs = self.get_booster().predict(\n\u001b[0m\u001b[0;32m    895\u001b[0m             \u001b[0mtest_dmatrix\u001b[0m\u001b[1;33m,\u001b[0m\u001b[1;33m\u001b[0m\u001b[1;33m\u001b[0m\u001b[0m\n\u001b[0;32m    896\u001b[0m             \u001b[0moutput_margin\u001b[0m\u001b[1;33m=\u001b[0m\u001b[0moutput_margin\u001b[0m\u001b[1;33m,\u001b[0m\u001b[1;33m\u001b[0m\u001b[1;33m\u001b[0m\u001b[0m\n",
      "\u001b[1;32m~\\anaconda3\\envs\\learn-env\\lib\\site-packages\\xgboost\\core.py\u001b[0m in \u001b[0;36mpredict\u001b[1;34m(self, data, output_margin, ntree_limit, pred_leaf, pred_contribs, approx_contribs, pred_interactions, validate_features, training)\u001b[0m\n\u001b[0;32m   1362\u001b[0m \u001b[1;33m\u001b[0m\u001b[0m\n\u001b[0;32m   1363\u001b[0m         \u001b[1;32mif\u001b[0m \u001b[0mvalidate_features\u001b[0m\u001b[1;33m:\u001b[0m\u001b[1;33m\u001b[0m\u001b[1;33m\u001b[0m\u001b[0m\n\u001b[1;32m-> 1364\u001b[1;33m             \u001b[0mself\u001b[0m\u001b[1;33m.\u001b[0m\u001b[0m_validate_features\u001b[0m\u001b[1;33m(\u001b[0m\u001b[0mdata\u001b[0m\u001b[1;33m)\u001b[0m\u001b[1;33m\u001b[0m\u001b[1;33m\u001b[0m\u001b[0m\n\u001b[0m\u001b[0;32m   1365\u001b[0m \u001b[1;33m\u001b[0m\u001b[0m\n\u001b[0;32m   1366\u001b[0m         \u001b[0mlength\u001b[0m \u001b[1;33m=\u001b[0m \u001b[0mc_bst_ulong\u001b[0m\u001b[1;33m(\u001b[0m\u001b[1;33m)\u001b[0m\u001b[1;33m\u001b[0m\u001b[1;33m\u001b[0m\u001b[0m\n",
      "\u001b[1;32m~\\anaconda3\\envs\\learn-env\\lib\\site-packages\\xgboost\\core.py\u001b[0m in \u001b[0;36m_validate_features\u001b[1;34m(self, data)\u001b[0m\n\u001b[0;32m   1933\u001b[0m                             ', '.join(str(s) for s in my_missing))\n\u001b[0;32m   1934\u001b[0m \u001b[1;33m\u001b[0m\u001b[0m\n\u001b[1;32m-> 1935\u001b[1;33m                 raise ValueError(msg.format(self.feature_names,\n\u001b[0m\u001b[0;32m   1936\u001b[0m                                             data.feature_names))\n\u001b[0;32m   1937\u001b[0m \u001b[1;33m\u001b[0m\u001b[0m\n",
      "\u001b[1;31mValueError\u001b[0m: feature_names mismatch: ['f0', 'f1', 'f2', 'f3', 'f4', 'f5', 'f6', 'f7', 'f8', 'f9', 'f10', 'f11', 'f12', 'f13', 'f14', 'f15', 'f16'] ['customer_id', 'tbl_loan_id', 'lender_id', 'loan_type', 'Total_Amount', 'Total_Amount_to_Repay', 'duration', 'New_versus_Repeat', 'Amount_Funded_By_Lender', 'Lender_portion_Funded', 'Lender_portion_to_be_repaid', 'disbursement_date_month', 'disbursement_date_day', 'disbursement_date_year', 'due_date_month', 'due_date_day', 'due_date_year']\nexpected f1, f10, f8, f16, f3, f7, f2, f4, f6, f0, f5, f11, f9, f14, f13, f15, f12 in input data\ntraining data did not have the following fields: loan_type, Lender_portion_to_be_repaid, Total_Amount_to_Repay, Total_Amount, customer_id, Amount_Funded_By_Lender, due_date_year, Lender_portion_Funded, duration, disbursement_date_month, disbursement_date_day, New_versus_Repeat, tbl_loan_id, due_date_day, lender_id, disbursement_date_year, due_date_month"
     ]
    }
   ],
   "source": [
    "# Make predictions on the test dataset\n",
    "test_predictions = xgb_clf.predict(test_df[features_for_modelling])\n",
    "test_predictions_proba = xgb_clf.predict_proba(test_df[features_for_modelling])[:, 1]"
   ]
  },
  {
   "cell_type": "code",
   "execution_count": 97,
   "metadata": {},
   "outputs": [
    {
     "data": {
      "text/html": [
       "<div>\n",
       "<style scoped>\n",
       "    .dataframe tbody tr th:only-of-type {\n",
       "        vertical-align: middle;\n",
       "    }\n",
       "\n",
       "    .dataframe tbody tr th {\n",
       "        vertical-align: top;\n",
       "    }\n",
       "\n",
       "    .dataframe thead th {\n",
       "        text-align: right;\n",
       "    }\n",
       "</style>\n",
       "<table border=\"1\" class=\"dataframe\">\n",
       "  <thead>\n",
       "    <tr style=\"text-align: right;\">\n",
       "      <th></th>\n",
       "      <th>ID</th>\n",
       "      <th>target</th>\n",
       "    </tr>\n",
       "  </thead>\n",
       "  <tbody>\n",
       "    <tr>\n",
       "      <th>68654</th>\n",
       "      <td>ID_269404226088267278</td>\n",
       "      <td>0</td>\n",
       "    </tr>\n",
       "    <tr>\n",
       "      <th>68655</th>\n",
       "      <td>ID_255356300042267278</td>\n",
       "      <td>0</td>\n",
       "    </tr>\n",
       "    <tr>\n",
       "      <th>68656</th>\n",
       "      <td>ID_257026243764267278</td>\n",
       "      <td>0</td>\n",
       "    </tr>\n",
       "    <tr>\n",
       "      <th>68657</th>\n",
       "      <td>ID_264617299409267278</td>\n",
       "      <td>0</td>\n",
       "    </tr>\n",
       "    <tr>\n",
       "      <th>68658</th>\n",
       "      <td>ID_247613296713267278</td>\n",
       "      <td>0</td>\n",
       "    </tr>\n",
       "  </tbody>\n",
       "</table>\n",
       "</div>"
      ],
      "text/plain": [
       "                          ID  target\n",
       "68654  ID_269404226088267278       0\n",
       "68655  ID_255356300042267278       0\n",
       "68656  ID_257026243764267278       0\n",
       "68657  ID_264617299409267278       0\n",
       "68658  ID_247613296713267278       0"
      ]
     },
     "execution_count": 97,
     "metadata": {},
     "output_type": "execute_result"
    }
   ],
   "source": [
    "# Save the predictions to a CSV file\n",
    "test_df['target'] = test_predictions\n",
    "sub = test_df[['ID', 'target']]\n",
    "sub.to_csv('submission.csv', index=False)\n",
    "sub.head()"
   ]
  },
  {
   "cell_type": "code",
   "execution_count": 96,
   "metadata": {
    "colab": {
     "base_uri": "https://localhost:8080/",
     "height": 206
    },
    "id": "pm6VoIQM8VKE",
    "outputId": "801e48b9-9f12-4a83-cf1e-5d230ae4db6a"
   },
   "outputs": [
    {
     "ename": "ValueError",
     "evalue": "feature_names mismatch: ['f0', 'f1', 'f2', 'f3', 'f4', 'f5', 'f6', 'f7', 'f8', 'f9', 'f10', 'f11', 'f12', 'f13', 'f14', 'f15', 'f16'] ['customer_id', 'tbl_loan_id', 'lender_id', 'loan_type', 'Total_Amount', 'Total_Amount_to_Repay', 'duration', 'New_versus_Repeat', 'Amount_Funded_By_Lender', 'Lender_portion_Funded', 'Lender_portion_to_be_repaid', 'disbursement_date_month', 'disbursement_date_day', 'disbursement_date_year', 'due_date_month', 'due_date_day', 'due_date_year']\nexpected f1, f10, f8, f16, f3, f7, f2, f4, f6, f0, f5, f11, f9, f14, f13, f15, f12 in input data\ntraining data did not have the following fields: loan_type, Lender_portion_to_be_repaid, Total_Amount_to_Repay, Total_Amount, customer_id, Amount_Funded_By_Lender, due_date_year, Lender_portion_Funded, duration, disbursement_date_month, disbursement_date_day, New_versus_Repeat, tbl_loan_id, due_date_day, lender_id, disbursement_date_year, due_date_month",
     "output_type": "error",
     "traceback": [
      "\u001b[1;31m---------------------------------------------------------------------------\u001b[0m",
      "\u001b[1;31mValueError\u001b[0m                                Traceback (most recent call last)",
      "\u001b[1;32m<ipython-input-96-f688ebb892d9>\u001b[0m in \u001b[0;36m<module>\u001b[1;34m\u001b[0m\n\u001b[0;32m      1\u001b[0m \u001b[1;31m# Make predictions on the test dataset\u001b[0m\u001b[1;33m\u001b[0m\u001b[1;33m\u001b[0m\u001b[1;33m\u001b[0m\u001b[0m\n\u001b[1;32m----> 2\u001b[1;33m \u001b[0mtest_predictions\u001b[0m \u001b[1;33m=\u001b[0m \u001b[0mxgb_clf\u001b[0m\u001b[1;33m.\u001b[0m\u001b[0mpredict\u001b[0m\u001b[1;33m(\u001b[0m\u001b[0mtest_df\u001b[0m\u001b[1;33m[\u001b[0m\u001b[0mfeatures_for_modelling\u001b[0m\u001b[1;33m]\u001b[0m\u001b[1;33m)\u001b[0m\u001b[1;33m\u001b[0m\u001b[1;33m\u001b[0m\u001b[0m\n\u001b[0m\u001b[0;32m      3\u001b[0m \u001b[0mtest_predictions_proba\u001b[0m \u001b[1;33m=\u001b[0m \u001b[0mxgb_clf\u001b[0m\u001b[1;33m.\u001b[0m\u001b[0mpredict_proba\u001b[0m\u001b[1;33m(\u001b[0m\u001b[0mtest_df\u001b[0m\u001b[1;33m[\u001b[0m\u001b[0mfeatures_for_modelling\u001b[0m\u001b[1;33m]\u001b[0m\u001b[1;33m)\u001b[0m\u001b[1;33m[\u001b[0m\u001b[1;33m:\u001b[0m\u001b[1;33m,\u001b[0m \u001b[1;36m1\u001b[0m\u001b[1;33m]\u001b[0m\u001b[1;33m\u001b[0m\u001b[1;33m\u001b[0m\u001b[0m\n\u001b[0;32m      4\u001b[0m \u001b[1;33m\u001b[0m\u001b[0m\n\u001b[0;32m      5\u001b[0m \u001b[1;31m# Save the predictions to a CSV file\u001b[0m\u001b[1;33m\u001b[0m\u001b[1;33m\u001b[0m\u001b[1;33m\u001b[0m\u001b[0m\n",
      "\u001b[1;32m~\\anaconda3\\envs\\learn-env\\lib\\site-packages\\xgboost\\sklearn.py\u001b[0m in \u001b[0;36mpredict\u001b[1;34m(self, data, output_margin, ntree_limit, validate_features, base_margin)\u001b[0m\n\u001b[0;32m    892\u001b[0m         \u001b[1;32mif\u001b[0m \u001b[0mntree_limit\u001b[0m \u001b[1;32mis\u001b[0m \u001b[1;32mNone\u001b[0m\u001b[1;33m:\u001b[0m\u001b[1;33m\u001b[0m\u001b[1;33m\u001b[0m\u001b[0m\n\u001b[0;32m    893\u001b[0m             \u001b[0mntree_limit\u001b[0m \u001b[1;33m=\u001b[0m \u001b[0mgetattr\u001b[0m\u001b[1;33m(\u001b[0m\u001b[0mself\u001b[0m\u001b[1;33m,\u001b[0m \u001b[1;34m\"best_ntree_limit\"\u001b[0m\u001b[1;33m,\u001b[0m \u001b[1;36m0\u001b[0m\u001b[1;33m)\u001b[0m\u001b[1;33m\u001b[0m\u001b[1;33m\u001b[0m\u001b[0m\n\u001b[1;32m--> 894\u001b[1;33m         class_probs = self.get_booster().predict(\n\u001b[0m\u001b[0;32m    895\u001b[0m             \u001b[0mtest_dmatrix\u001b[0m\u001b[1;33m,\u001b[0m\u001b[1;33m\u001b[0m\u001b[1;33m\u001b[0m\u001b[0m\n\u001b[0;32m    896\u001b[0m             \u001b[0moutput_margin\u001b[0m\u001b[1;33m=\u001b[0m\u001b[0moutput_margin\u001b[0m\u001b[1;33m,\u001b[0m\u001b[1;33m\u001b[0m\u001b[1;33m\u001b[0m\u001b[0m\n",
      "\u001b[1;32m~\\anaconda3\\envs\\learn-env\\lib\\site-packages\\xgboost\\core.py\u001b[0m in \u001b[0;36mpredict\u001b[1;34m(self, data, output_margin, ntree_limit, pred_leaf, pred_contribs, approx_contribs, pred_interactions, validate_features, training)\u001b[0m\n\u001b[0;32m   1362\u001b[0m \u001b[1;33m\u001b[0m\u001b[0m\n\u001b[0;32m   1363\u001b[0m         \u001b[1;32mif\u001b[0m \u001b[0mvalidate_features\u001b[0m\u001b[1;33m:\u001b[0m\u001b[1;33m\u001b[0m\u001b[1;33m\u001b[0m\u001b[0m\n\u001b[1;32m-> 1364\u001b[1;33m             \u001b[0mself\u001b[0m\u001b[1;33m.\u001b[0m\u001b[0m_validate_features\u001b[0m\u001b[1;33m(\u001b[0m\u001b[0mdata\u001b[0m\u001b[1;33m)\u001b[0m\u001b[1;33m\u001b[0m\u001b[1;33m\u001b[0m\u001b[0m\n\u001b[0m\u001b[0;32m   1365\u001b[0m \u001b[1;33m\u001b[0m\u001b[0m\n\u001b[0;32m   1366\u001b[0m         \u001b[0mlength\u001b[0m \u001b[1;33m=\u001b[0m \u001b[0mc_bst_ulong\u001b[0m\u001b[1;33m(\u001b[0m\u001b[1;33m)\u001b[0m\u001b[1;33m\u001b[0m\u001b[1;33m\u001b[0m\u001b[0m\n",
      "\u001b[1;32m~\\anaconda3\\envs\\learn-env\\lib\\site-packages\\xgboost\\core.py\u001b[0m in \u001b[0;36m_validate_features\u001b[1;34m(self, data)\u001b[0m\n\u001b[0;32m   1933\u001b[0m                             ', '.join(str(s) for s in my_missing))\n\u001b[0;32m   1934\u001b[0m \u001b[1;33m\u001b[0m\u001b[0m\n\u001b[1;32m-> 1935\u001b[1;33m                 raise ValueError(msg.format(self.feature_names,\n\u001b[0m\u001b[0;32m   1936\u001b[0m                                             data.feature_names))\n\u001b[0;32m   1937\u001b[0m \u001b[1;33m\u001b[0m\u001b[0m\n",
      "\u001b[1;31mValueError\u001b[0m: feature_names mismatch: ['f0', 'f1', 'f2', 'f3', 'f4', 'f5', 'f6', 'f7', 'f8', 'f9', 'f10', 'f11', 'f12', 'f13', 'f14', 'f15', 'f16'] ['customer_id', 'tbl_loan_id', 'lender_id', 'loan_type', 'Total_Amount', 'Total_Amount_to_Repay', 'duration', 'New_versus_Repeat', 'Amount_Funded_By_Lender', 'Lender_portion_Funded', 'Lender_portion_to_be_repaid', 'disbursement_date_month', 'disbursement_date_day', 'disbursement_date_year', 'due_date_month', 'due_date_day', 'due_date_year']\nexpected f1, f10, f8, f16, f3, f7, f2, f4, f6, f0, f5, f11, f9, f14, f13, f15, f12 in input data\ntraining data did not have the following fields: loan_type, Lender_portion_to_be_repaid, Total_Amount_to_Repay, Total_Amount, customer_id, Amount_Funded_By_Lender, due_date_year, Lender_portion_Funded, duration, disbursement_date_month, disbursement_date_day, New_versus_Repeat, tbl_loan_id, due_date_day, lender_id, disbursement_date_year, due_date_month"
     ]
    }
   ],
   "source": [
    "# Make predictions on the test dataset\n",
    "test_predictions = xgb_clf.predict(test_df[features_for_modelling])\n",
    "test_predictions_proba = xgb_clf.predict_proba(test_df[features_for_modelling])[:, 1]\n",
    "\n",
    "# Save the predictions to a CSV file\n",
    "\n",
    "test_df['target'] = test_predictions\n",
    "sub =  test_df[['ID', 'target']]\n",
    "sub.head()\n"
   ]
  },
  {
   "cell_type": "code",
   "execution_count": 98,
   "metadata": {
    "id": "L-0bfscp9yED"
   },
   "outputs": [],
   "source": [
    "sub.to_csv('baseline_submission.csv', index=False)"
   ]
  },
  {
   "cell_type": "code",
   "execution_count": 18,
   "metadata": {
    "id": "yhguEHw9cXdc"
   },
   "outputs": [],
   "source": []
  },
  {
   "cell_type": "markdown",
   "metadata": {
    "id": "PBvU51459yEE"
   },
   "source": [
    "#### To Do\n",
    "* Handle imbalance\n",
    "* Do more feature engineering\n",
    "* Use more sophisticated machine learning algorithms\n",
    "##### Good luck"
   ]
  },
  {
   "cell_type": "code",
   "execution_count": 100,
   "metadata": {},
   "outputs": [
    {
     "data": {
      "text/html": [
       "<div>\n",
       "<style scoped>\n",
       "    .dataframe tbody tr th:only-of-type {\n",
       "        vertical-align: middle;\n",
       "    }\n",
       "\n",
       "    .dataframe tbody tr th {\n",
       "        vertical-align: top;\n",
       "    }\n",
       "\n",
       "    .dataframe thead th {\n",
       "        text-align: right;\n",
       "    }\n",
       "</style>\n",
       "<table border=\"1\" class=\"dataframe\">\n",
       "  <thead>\n",
       "    <tr style=\"text-align: right;\">\n",
       "      <th></th>\n",
       "      <th>Country</th>\n",
       "      <th>Indicator</th>\n",
       "      <th>YR2001</th>\n",
       "      <th>YR2002</th>\n",
       "      <th>YR2003</th>\n",
       "      <th>YR2004</th>\n",
       "      <th>YR2005</th>\n",
       "      <th>YR2006</th>\n",
       "      <th>YR2007</th>\n",
       "      <th>YR2008</th>\n",
       "      <th>...</th>\n",
       "      <th>YR2014</th>\n",
       "      <th>YR2015</th>\n",
       "      <th>YR2016</th>\n",
       "      <th>YR2017</th>\n",
       "      <th>YR2018</th>\n",
       "      <th>YR2019</th>\n",
       "      <th>YR2020</th>\n",
       "      <th>YR2021</th>\n",
       "      <th>YR2022</th>\n",
       "      <th>YR2023</th>\n",
       "    </tr>\n",
       "  </thead>\n",
       "  <tbody>\n",
       "    <tr>\n",
       "      <th>0</th>\n",
       "      <td>Ghana</td>\n",
       "      <td>Inflation, consumer prices (annual %)</td>\n",
       "      <td>41.509496</td>\n",
       "      <td>9.360932</td>\n",
       "      <td>29.772980</td>\n",
       "      <td>18.042739</td>\n",
       "      <td>15.438992</td>\n",
       "      <td>11.679184</td>\n",
       "      <td>10.734267</td>\n",
       "      <td>16.494640</td>\n",
       "      <td>...</td>\n",
       "      <td>15.489616</td>\n",
       "      <td>17.149970</td>\n",
       "      <td>17.454635</td>\n",
       "      <td>12.371922</td>\n",
       "      <td>7.808765</td>\n",
       "      <td>7.143640</td>\n",
       "      <td>9.887290</td>\n",
       "      <td>9.971089</td>\n",
       "      <td>31.255895</td>\n",
       "      <td>38.106966</td>\n",
       "    </tr>\n",
       "    <tr>\n",
       "      <th>1</th>\n",
       "      <td>Cote d'Ivoire</td>\n",
       "      <td>Inflation, consumer prices (annual %)</td>\n",
       "      <td>4.361529</td>\n",
       "      <td>3.077265</td>\n",
       "      <td>3.296807</td>\n",
       "      <td>1.457988</td>\n",
       "      <td>3.885830</td>\n",
       "      <td>2.467191</td>\n",
       "      <td>1.892006</td>\n",
       "      <td>6.308528</td>\n",
       "      <td>...</td>\n",
       "      <td>0.448682</td>\n",
       "      <td>1.251500</td>\n",
       "      <td>0.723178</td>\n",
       "      <td>0.685881</td>\n",
       "      <td>0.359409</td>\n",
       "      <td>-1.106863</td>\n",
       "      <td>2.425007</td>\n",
       "      <td>4.091952</td>\n",
       "      <td>5.276167</td>\n",
       "      <td>4.387117</td>\n",
       "    </tr>\n",
       "    <tr>\n",
       "      <th>2</th>\n",
       "      <td>Kenya</td>\n",
       "      <td>Inflation, consumer prices (annual %)</td>\n",
       "      <td>5.738598</td>\n",
       "      <td>1.961308</td>\n",
       "      <td>9.815691</td>\n",
       "      <td>11.624036</td>\n",
       "      <td>10.312778</td>\n",
       "      <td>14.453734</td>\n",
       "      <td>9.758880</td>\n",
       "      <td>26.239817</td>\n",
       "      <td>...</td>\n",
       "      <td>6.878155</td>\n",
       "      <td>6.582154</td>\n",
       "      <td>6.297250</td>\n",
       "      <td>8.005650</td>\n",
       "      <td>4.689806</td>\n",
       "      <td>5.239638</td>\n",
       "      <td>5.405162</td>\n",
       "      <td>6.107936</td>\n",
       "      <td>7.659863</td>\n",
       "      <td>7.671396</td>\n",
       "    </tr>\n",
       "    <tr>\n",
       "      <th>3</th>\n",
       "      <td>Ghana</td>\n",
       "      <td>Official exchange rate (LCU per US$, period av...</td>\n",
       "      <td>0.716305</td>\n",
       "      <td>0.792417</td>\n",
       "      <td>0.866764</td>\n",
       "      <td>0.899495</td>\n",
       "      <td>0.905209</td>\n",
       "      <td>0.915107</td>\n",
       "      <td>0.932619</td>\n",
       "      <td>1.052275</td>\n",
       "      <td>...</td>\n",
       "      <td>2.896575</td>\n",
       "      <td>3.714642</td>\n",
       "      <td>3.909817</td>\n",
       "      <td>4.350533</td>\n",
       "      <td>4.585325</td>\n",
       "      <td>5.217367</td>\n",
       "      <td>5.595708</td>\n",
       "      <td>5.805700</td>\n",
       "      <td>8.272400</td>\n",
       "      <td>11.020408</td>\n",
       "    </tr>\n",
       "    <tr>\n",
       "      <th>4</th>\n",
       "      <td>Cote d'Ivoire</td>\n",
       "      <td>Official exchange rate (LCU per US$, period av...</td>\n",
       "      <td>732.397693</td>\n",
       "      <td>693.713226</td>\n",
       "      <td>579.897426</td>\n",
       "      <td>527.338032</td>\n",
       "      <td>527.258363</td>\n",
       "      <td>522.425625</td>\n",
       "      <td>478.633718</td>\n",
       "      <td>446.000041</td>\n",
       "      <td>...</td>\n",
       "      <td>493.757330</td>\n",
       "      <td>591.211698</td>\n",
       "      <td>592.605615</td>\n",
       "      <td>580.656750</td>\n",
       "      <td>555.446458</td>\n",
       "      <td>585.911013</td>\n",
       "      <td>575.586005</td>\n",
       "      <td>554.530675</td>\n",
       "      <td>623.759701</td>\n",
       "      <td>606.569750</td>\n",
       "    </tr>\n",
       "  </tbody>\n",
       "</table>\n",
       "<p>5 rows × 25 columns</p>\n",
       "</div>"
      ],
      "text/plain": [
       "         Country                                          Indicator  \\\n",
       "0          Ghana              Inflation, consumer prices (annual %)   \n",
       "1  Cote d'Ivoire              Inflation, consumer prices (annual %)   \n",
       "2          Kenya              Inflation, consumer prices (annual %)   \n",
       "3          Ghana  Official exchange rate (LCU per US$, period av...   \n",
       "4  Cote d'Ivoire  Official exchange rate (LCU per US$, period av...   \n",
       "\n",
       "       YR2001      YR2002      YR2003      YR2004      YR2005      YR2006  \\\n",
       "0   41.509496    9.360932   29.772980   18.042739   15.438992   11.679184   \n",
       "1    4.361529    3.077265    3.296807    1.457988    3.885830    2.467191   \n",
       "2    5.738598    1.961308    9.815691   11.624036   10.312778   14.453734   \n",
       "3    0.716305    0.792417    0.866764    0.899495    0.905209    0.915107   \n",
       "4  732.397693  693.713226  579.897426  527.338032  527.258363  522.425625   \n",
       "\n",
       "       YR2007      YR2008  ...      YR2014      YR2015      YR2016  \\\n",
       "0   10.734267   16.494640  ...   15.489616   17.149970   17.454635   \n",
       "1    1.892006    6.308528  ...    0.448682    1.251500    0.723178   \n",
       "2    9.758880   26.239817  ...    6.878155    6.582154    6.297250   \n",
       "3    0.932619    1.052275  ...    2.896575    3.714642    3.909817   \n",
       "4  478.633718  446.000041  ...  493.757330  591.211698  592.605615   \n",
       "\n",
       "       YR2017      YR2018      YR2019      YR2020      YR2021      YR2022  \\\n",
       "0   12.371922    7.808765    7.143640    9.887290    9.971089   31.255895   \n",
       "1    0.685881    0.359409   -1.106863    2.425007    4.091952    5.276167   \n",
       "2    8.005650    4.689806    5.239638    5.405162    6.107936    7.659863   \n",
       "3    4.350533    4.585325    5.217367    5.595708    5.805700    8.272400   \n",
       "4  580.656750  555.446458  585.911013  575.586005  554.530675  623.759701   \n",
       "\n",
       "       YR2023  \n",
       "0   38.106966  \n",
       "1    4.387117  \n",
       "2    7.671396  \n",
       "3   11.020408  \n",
       "4  606.569750  \n",
       "\n",
       "[5 rows x 25 columns]"
      ]
     },
     "execution_count": 100,
     "metadata": {},
     "output_type": "execute_result"
    }
   ],
   "source": [
    "data_fed = pd.read_csv('economic_indicators.csv')\n",
    "data_fed.head()"
   ]
  },
  {
   "cell_type": "code",
   "execution_count": 101,
   "metadata": {},
   "outputs": [
    {
     "data": {
      "text/plain": [
       "Index(['Country', 'Indicator', 'YR2001', 'YR2002', 'YR2003', 'YR2004',\n",
       "       'YR2005', 'YR2006', 'YR2007', 'YR2008', 'YR2009', 'YR2010', 'YR2011',\n",
       "       'YR2012', 'YR2013', 'YR2014', 'YR2015', 'YR2016', 'YR2017', 'YR2018',\n",
       "       'YR2019', 'YR2020', 'YR2021', 'YR2022', 'YR2023'],\n",
       "      dtype='object')"
      ]
     },
     "execution_count": 101,
     "metadata": {},
     "output_type": "execute_result"
    }
   ],
   "source": [
    "data_fed.columns"
   ]
  },
  {
   "cell_type": "markdown",
   "metadata": {
    "id": "JBJo01jJ9yEG"
   },
   "source": [
    "train['target].value_counts()"
   ]
  }
 ],
 "metadata": {
  "colab": {
   "provenance": []
  },
  "kernelspec": {
   "display_name": "Python 3",
   "language": "python",
   "name": "python3"
  },
  "language_info": {
   "codemirror_mode": {
    "name": "ipython",
    "version": 3
   },
   "file_extension": ".py",
   "mimetype": "text/x-python",
   "name": "python",
   "nbconvert_exporter": "python",
   "pygments_lexer": "ipython3",
   "version": "3.8.5"
  }
 },
 "nbformat": 4,
 "nbformat_minor": 1
}
